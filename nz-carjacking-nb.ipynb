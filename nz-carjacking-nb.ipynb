{
 "cells": [
  {
   "cell_type": "markdown",
   "metadata": {},
   "source": [
    "# Welcome!\n",
    "This is a notebook detailing my analysis of some data about motor theft in New Zealand over 6 months.\n",
    "The records contain information about the vehicle, including its unique ID, type, make, manufacture year, color the location of the incident, the day it was added to the database.\n",
    "\n",
    "I figured it was an appropriate phenomenon to study, considering the imminent announcement of GTA VI.\n",
    "\n",
    "The dataset is kindly provided by the wonderful people at [Maven Analytics](mavenanalytics.io), it can be acquired there for free.\n",
    "\n",
    "## Goals:\n",
    "### Are there seasonality trends to this phenomenon?\n",
    "- I wonder if any crook would take the holidays as a chance to catch an owner off guard.\n",
    "### Which vehicle types were stolen the most? \n",
    "- I expect standard cars to be the biggest victims, luxury cars tend to have more security features, and I don't think a common outlaw would want to accidentally steal a mob boss' car. Trailers are such are also prime candidates because you can just stick them to a tractor of any kind and run off with them, with the owner inside if you're feeling adventurous.\n",
    "### What day of the week are vehicles most often and least often stolen?\n",
    "- I'm quite curious about this one! If you stole a car, what day would you choose to do it?\n",
    "### Is the model year a factor? Does it affect a vehicle differently based on its type?\n",
    "- I expect prized cars from the 80s and earlier to be prime targets, highly valuable (particularly Japanese cars) without as much security as say, a 2023 Mercedes.\n",
    "### Which regions had the most carjackings?\n",
    "- I have no idea what the New Zealand provinces are, but a little filled map action will sort us well.\n",
    "### Have carjackings increased or decreased in these six months?\n",
    "- Analyzing the changes and trends of the phenomenon.\n",
    "### Which regions are above or below the average rate of thefts?\n",
    "- Using **transform()**, we'll be able to analyze whether a region is safer than others or not.\n",
    "\n"
   ]
  },
  {
   "cell_type": "markdown",
   "metadata": {},
   "source": [
    "## Let's start by importing all the libraries we'll need:\n"
   ]
  },
  {
   "cell_type": "code",
   "execution_count": 17,
   "metadata": {},
   "outputs": [],
   "source": [
    "# pandas\n",
    "import pandas as pd\n",
    "\n",
    "# numpy\n",
    "import numpy as np\n",
    "\n",
    "# matplotlib\n",
    "import matplotlib.pyplot as plt\n",
    "\n",
    "# seaborn, might need it\n",
    "import seaborn as sns\n",
    "\n",
    "# setting which plot style to use, I chose this one because a beige background is easier on the eyes, and it's viewable by colorblind people too\n",
    "plt.style.use(\"Solarize_Light2\")\n",
    "\n",
    "#magic function that stores all the plots in the notebook\n",
    "%matplotlib inline"
   ]
  },
  {
   "cell_type": "markdown",
   "metadata": {},
   "source": [
    "## Data Import and Preprocessing\n",
    "\n",
    "### Next, we'll import our CSV files and perform some import pre-processing to save memory and time:\n",
    "- First we import the carjackings dataframe itself using **read_csv()**, set the date parser to true with specified date format, and use smaller integer data types when possible, these preprocessing steps will save us both time and performance.\n"
   ]
  },
  {
   "cell_type": "code",
   "execution_count": 18,
   "metadata": {},
   "outputs": [],
   "source": [
    "# little variable to help make the code more readable\n",
    "veh_cols=[\"vehicle_id\",\"vehicle_type\",\"make_id\",\"model_year\",\"color\",\"date_stolen\",\"location_id\"]\n",
    "\n",
    "thefts = pd.read_csv(\"E:/projects/nz-motor-theft-py-analysis/stolen_vehicles.csv\",\n",
    "            usecols=veh_cols, # this will pass only the specified columns\n",
    "            index_col= \"date_stolen\", # setting the date column as an index\n",
    "            header=0, # setting the first row as the header\n",
    "            parse_dates=True, # allows pandas to directly make the date column a datetime64 type\n",
    "            date_format= \"%m/%d/%y\", # helps pandas get the correct date format\n",
    "            dtype={\"vehicle_id\": \"Int16\",\"make_id\":\"Int16\",\"model_year\":\"Int16\",\"location_id\":\"Int16\"}, #notice the capital letter in the \"Int\"s, more on that later\n",
    "            keep_default_na=True #keeps the NA values, so we'll be able to get rid of them later\n",
    "            )"
   ]
  },
  {
   "cell_type": "markdown",
   "metadata": {},
   "source": [
    "There's a lot of missing values here, and unfortunately we can't really do anything to fill them, so we'll have to get rid of them, but we'll save that for the cleaning stage.\n",
    "\n",
    "- For now, we'll import the second CSV file, the make details table."
   ]
  },
  {
   "cell_type": "code",
   "execution_count": 19,
   "metadata": {},
   "outputs": [
    {
     "data": {
      "text/html": [
       "<div>\n",
       "<style scoped>\n",
       "    .dataframe tbody tr th:only-of-type {\n",
       "        vertical-align: middle;\n",
       "    }\n",
       "\n",
       "    .dataframe tbody tr th {\n",
       "        vertical-align: top;\n",
       "    }\n",
       "\n",
       "    .dataframe thead th {\n",
       "        text-align: right;\n",
       "    }\n",
       "</style>\n",
       "<table border=\"1\" class=\"dataframe\">\n",
       "  <thead>\n",
       "    <tr style=\"text-align: right;\">\n",
       "      <th></th>\n",
       "      <th>make_name</th>\n",
       "      <th>make_type</th>\n",
       "    </tr>\n",
       "    <tr>\n",
       "      <th>make_id</th>\n",
       "      <th></th>\n",
       "      <th></th>\n",
       "    </tr>\n",
       "  </thead>\n",
       "  <tbody>\n",
       "    <tr>\n",
       "      <th>501</th>\n",
       "      <td>Aakron Xpress</td>\n",
       "      <td>Standard</td>\n",
       "    </tr>\n",
       "    <tr>\n",
       "      <th>502</th>\n",
       "      <td>ADLY</td>\n",
       "      <td>Standard</td>\n",
       "    </tr>\n",
       "    <tr>\n",
       "      <th>503</th>\n",
       "      <td>Alpha</td>\n",
       "      <td>Standard</td>\n",
       "    </tr>\n",
       "    <tr>\n",
       "      <th>504</th>\n",
       "      <td>Anglo</td>\n",
       "      <td>Standard</td>\n",
       "    </tr>\n",
       "    <tr>\n",
       "      <th>505</th>\n",
       "      <td>Aprilia</td>\n",
       "      <td>Standard</td>\n",
       "    </tr>\n",
       "  </tbody>\n",
       "</table>\n",
       "</div>"
      ],
      "text/plain": [
       "             make_name make_type\n",
       "make_id                         \n",
       "501      Aakron Xpress  Standard\n",
       "502               ADLY  Standard\n",
       "503              Alpha  Standard\n",
       "504              Anglo  Standard\n",
       "505            Aprilia  Standard"
      ]
     },
     "execution_count": 19,
     "metadata": {},
     "output_type": "execute_result"
    }
   ],
   "source": [
    "makes = pd.read_csv('E:/projects/nz-motor-theft-py-analysis/make_details.csv',\n",
    "            index_col = \"make_id\",\n",
    "            header=0, \n",
    "            dtype={\"make_id\":\"Int16\"},\n",
    "            keep_default_na=True  \n",
    ")\n",
    "makes.head()"
   ]
  },
  {
   "cell_type": "markdown",
   "metadata": {},
   "source": [
    "What a pretty dataframe. We'll join it to the first table soon, using **merge()** - pandas' version of the SQL join, I love SQL, so I feel right at home.\n"
   ]
  },
  {
   "cell_type": "markdown",
   "metadata": {},
   "source": [
    "- Now to import the location data:"
   ]
  },
  {
   "cell_type": "code",
   "execution_count": 20,
   "metadata": {},
   "outputs": [
    {
     "data": {
      "text/html": [
       "<div>\n",
       "<style scoped>\n",
       "    .dataframe tbody tr th:only-of-type {\n",
       "        vertical-align: middle;\n",
       "    }\n",
       "\n",
       "    .dataframe tbody tr th {\n",
       "        vertical-align: top;\n",
       "    }\n",
       "\n",
       "    .dataframe thead th {\n",
       "        text-align: right;\n",
       "    }\n",
       "</style>\n",
       "<table border=\"1\" class=\"dataframe\">\n",
       "  <thead>\n",
       "    <tr style=\"text-align: right;\">\n",
       "      <th></th>\n",
       "      <th>region</th>\n",
       "      <th>population</th>\n",
       "    </tr>\n",
       "    <tr>\n",
       "      <th>location_id</th>\n",
       "      <th></th>\n",
       "      <th></th>\n",
       "    </tr>\n",
       "  </thead>\n",
       "  <tbody>\n",
       "    <tr>\n",
       "      <th>101</th>\n",
       "      <td>Northland</td>\n",
       "      <td>201,500</td>\n",
       "    </tr>\n",
       "    <tr>\n",
       "      <th>102</th>\n",
       "      <td>Auckland</td>\n",
       "      <td>1,695,200</td>\n",
       "    </tr>\n",
       "    <tr>\n",
       "      <th>103</th>\n",
       "      <td>Waikato</td>\n",
       "      <td>513,800</td>\n",
       "    </tr>\n",
       "    <tr>\n",
       "      <th>104</th>\n",
       "      <td>Bay of Plenty</td>\n",
       "      <td>347,700</td>\n",
       "    </tr>\n",
       "    <tr>\n",
       "      <th>105</th>\n",
       "      <td>Gisborne</td>\n",
       "      <td>52,100</td>\n",
       "    </tr>\n",
       "  </tbody>\n",
       "</table>\n",
       "</div>"
      ],
      "text/plain": [
       "                    region population\n",
       "location_id                          \n",
       "101              Northland    201,500\n",
       "102               Auckland  1,695,200\n",
       "103                Waikato    513,800\n",
       "104          Bay of Plenty    347,700\n",
       "105               Gisborne     52,100"
      ]
     },
     "execution_count": 20,
     "metadata": {},
     "output_type": "execute_result"
    }
   ],
   "source": [
    "location_cols=[\"location_id\",\"region\",\"population\"] # columns to imported, there's only one country after all\n",
    "locations = pd.read_csv('E:/projects/nz-motor-theft-py-analysis/locations.csv',\n",
    "            index_col = \"location_id\",\n",
    "            usecols=location_cols,\n",
    "            header=0, \n",
    "            dtype={\"location_id\":\"int8\"},\n",
    "            keep_default_na=True\n",
    "  )\n",
    "locations.head()"
   ]
  },
  {
   "cell_type": "markdown",
   "metadata": {},
   "source": [
    "## Now that we have our data ready, it's time for cleaning."
   ]
  },
  {
   "cell_type": "markdown",
   "metadata": {},
   "source": [
    "- First, we'll check the stolen vehicles table:"
   ]
  },
  {
   "cell_type": "code",
   "execution_count": 21,
   "metadata": {},
   "outputs": [
    {
     "data": {
      "text/plain": [
       "(4553, 6)"
      ]
     },
     "execution_count": 21,
     "metadata": {},
     "output_type": "execute_result"
    }
   ],
   "source": [
    "thefts.shape"
   ]
  },
  {
   "cell_type": "markdown",
   "metadata": {},
   "source": [
    "6 columns and 4527 rows, including the ones with missing data."
   ]
  },
  {
   "cell_type": "code",
   "execution_count": 22,
   "metadata": {},
   "outputs": [
    {
     "data": {
      "text/plain": [
       "vehicle_id       0\n",
       "vehicle_type    26\n",
       "make_id         15\n",
       "model_year      15\n",
       "color           15\n",
       "location_id      0\n",
       "dtype: int64"
      ]
     },
     "execution_count": 22,
     "metadata": {},
     "output_type": "execute_result"
    }
   ],
   "source": [
    "thefts.isna().sum() #first method will tell us if the value is missing or not\n"
   ]
  },
  {
   "cell_type": "markdown",
   "metadata": {},
   "source": [
    "Plenty of missing values. As mentioned before, we can't really fill them with anything, so we'll just get rid of any rows missing data using **dropna()**\n",
    "Thankfully, it's only 26 rows. Negligible against the remaining 4520 (and header)"
   ]
  },
  {
   "cell_type": "code",
   "execution_count": 23,
   "metadata": {},
   "outputs": [
    {
     "data": {
      "text/plain": [
       "vehicle_id      0\n",
       "vehicle_type    0\n",
       "make_id         0\n",
       "model_year      0\n",
       "color           0\n",
       "location_id     0\n",
       "dtype: int64"
      ]
     },
     "execution_count": 23,
     "metadata": {},
     "output_type": "execute_result"
    }
   ],
   "source": [
    "thefts = thefts.dropna(axis = 0, how = \"any\") #this will delete *any* rows that are missing values\n",
    "thefts.isna().sum()"
   ]
  },
  {
   "cell_type": "markdown",
   "metadata": {},
   "source": [
    "Next, we'll check the makes table for any missing values, it's a lookup table, so I'm hoping nothing is missing.\n",
    "Let's look at the shape:\n"
   ]
  },
  {
   "cell_type": "code",
   "execution_count": 24,
   "metadata": {},
   "outputs": [
    {
     "data": {
      "text/plain": [
       "(138, 2)"
      ]
     },
     "execution_count": 24,
     "metadata": {},
     "output_type": "execute_result"
    }
   ],
   "source": [
    "makes.shape"
   ]
  },
  {
   "cell_type": "markdown",
   "metadata": {},
   "source": [
    "Let's check if any of these 138 rows are missing any data:\n"
   ]
  },
  {
   "cell_type": "code",
   "execution_count": 25,
   "metadata": {},
   "outputs": [
    {
     "data": {
      "text/plain": [
       "make_name    0\n",
       "make_type    0\n",
       "dtype: int64"
      ]
     },
     "execution_count": 25,
     "metadata": {},
     "output_type": "execute_result"
    }
   ],
   "source": [
    "makes.isna().sum()"
   ]
  },
  {
   "cell_type": "markdown",
   "metadata": {},
   "source": [
    "None! What a relief.\n",
    "Now, for the location table, it's likely the same, as it's a lookup table as well."
   ]
  },
  {
   "cell_type": "code",
   "execution_count": 26,
   "metadata": {},
   "outputs": [
    {
     "data": {
      "text/plain": [
       "(16, 2)"
      ]
     },
     "execution_count": 26,
     "metadata": {},
     "output_type": "execute_result"
    }
   ],
   "source": [
    "locations.shape"
   ]
  },
  {
   "cell_type": "code",
   "execution_count": 27,
   "metadata": {},
   "outputs": [
    {
     "data": {
      "text/plain": [
       "region        0\n",
       "population    0\n",
       "dtype: int64"
      ]
     },
     "execution_count": 27,
     "metadata": {},
     "output_type": "execute_result"
    }
   ],
   "source": [
    "locations.isna().sum()"
   ]
  },
  {
   "cell_type": "markdown",
   "metadata": {},
   "source": [
    "Success! There is no missing data in our lookup tables!"
   ]
  },
  {
   "cell_type": "markdown",
   "metadata": {},
   "source": [
    "I noticed that the list of vehicle types is quite granular and could do with a little touch up. We'll use **contains()** nested in **where()** to replace any rows.\n"
   ]
  },
  {
   "cell_type": "code",
   "execution_count": 35,
   "metadata": {},
   "outputs": [
    {
     "data": {
      "text/plain": [
       "array(['Trailer', 'Boat Trailer', 'Roadbike', 'Moped', 'Trailer - Heavy',\n",
       "       'Caravan', 'Hatchback', 'Saloon', 'Stationwagon', 'Tractor',\n",
       "       'Trail Bike', 'Light Van', 'All Terrain Vehicle', 'Utility',\n",
       "       'Other Truck', 'Sports Car', 'Flat Deck Truck', 'Light Bus',\n",
       "       'Mobile Home - Light', 'Convertible', 'Heavy Van',\n",
       "       'Special Purpose Vehicle', 'Articulated Truck',\n",
       "       'Cab and Chassis Only', 'Mobile Machine'], dtype=object)"
      ]
     },
     "execution_count": 35,
     "metadata": {},
     "output_type": "execute_result"
    }
   ],
   "source": [
    "thefts_full[\"vehicle_type\"].unique()"
   ]
  },
  {
   "cell_type": "markdown",
   "metadata": {},
   "source": [
    "The way I see it, a trailer isn't that different to a boat trailer, nor is there a *huge* difference between a light and heavy van etc.\n",
    "\n",
    "I apologize, it's quite an ugly snippet of code, and yes, I did try to use the **regex** library, but it doesn't support Dataframes and Series. So, I ended up making this:"
   ]
  },
  {
   "cell_type": "code",
   "execution_count": null,
   "metadata": {},
   "outputs": [],
   "source": [
    "thefts_full['vehicle_type'] = thefts_full['vehicle_type'].where((thefts_full['vehicle_type'].str.contains('Trailer') == False), other=\"Trailer\")\n",
    "thefts_full['vehicle_type'] = thefts_full['vehicle_type'].where((thefts_full['vehicle_type'].str.contains('Truck') == False), other=\"Truck\")\n",
    "thefts_full['vehicle_type'] = thefts_full['vehicle_type'].where((thefts_full['vehicle_type'].str.contains('Van') == False), other=\"Van\")thefts_full['vehicle_type'] = thefts_full['vehicle_type'].where((thefts_full['vehicle_type'].str.contains('Bus') == False), other=\"Bus\")"
   ]
  },
  {
   "cell_type": "markdown",
   "metadata": {},
   "source": [
    "It replaces any rows with the mention of a trailer with simply \"trailer\", van with \"vans\" and so on.\n",
    "I spent over an hour trying to avoid that spaghetti but alas."
   ]
  },
  {
   "cell_type": "markdown",
   "metadata": {},
   "source": [
    "# Joining the Data tables:\n",
    "For this, we'll use **merge()**, and NOT **join()** and keys like make_id and location_id."
   ]
  },
  {
   "cell_type": "markdown",
   "metadata": {},
   "source": [
    "Next, we'll join the location data, for the complete package:"
   ]
  },
  {
   "cell_type": "code",
   "execution_count": 30,
   "metadata": {},
   "outputs": [
    {
     "data": {
      "text/html": [
       "<div>\n",
       "<style scoped>\n",
       "    .dataframe tbody tr th:only-of-type {\n",
       "        vertical-align: middle;\n",
       "    }\n",
       "\n",
       "    .dataframe tbody tr th {\n",
       "        vertical-align: top;\n",
       "    }\n",
       "\n",
       "    .dataframe thead th {\n",
       "        text-align: right;\n",
       "    }\n",
       "</style>\n",
       "<table border=\"1\" class=\"dataframe\">\n",
       "  <thead>\n",
       "    <tr style=\"text-align: right;\">\n",
       "      <th></th>\n",
       "      <th>vehicle_id</th>\n",
       "      <th>vehicle_type</th>\n",
       "      <th>make_id</th>\n",
       "      <th>model_year</th>\n",
       "      <th>color</th>\n",
       "      <th>location_id</th>\n",
       "      <th>make_name</th>\n",
       "      <th>make_type</th>\n",
       "      <th>region</th>\n",
       "      <th>population</th>\n",
       "    </tr>\n",
       "    <tr>\n",
       "      <th>date_stolen</th>\n",
       "      <th></th>\n",
       "      <th></th>\n",
       "      <th></th>\n",
       "      <th></th>\n",
       "      <th></th>\n",
       "      <th></th>\n",
       "      <th></th>\n",
       "      <th></th>\n",
       "      <th></th>\n",
       "      <th></th>\n",
       "    </tr>\n",
       "  </thead>\n",
       "  <tbody>\n",
       "    <tr>\n",
       "      <th>2021-11-05</th>\n",
       "      <td>1</td>\n",
       "      <td>Trailer</td>\n",
       "      <td>623</td>\n",
       "      <td>2021</td>\n",
       "      <td>Silver</td>\n",
       "      <td>102</td>\n",
       "      <td>Trailer</td>\n",
       "      <td>Standard</td>\n",
       "      <td>Auckland</td>\n",
       "      <td>1,695,200</td>\n",
       "    </tr>\n",
       "    <tr>\n",
       "      <th>2021-12-13</th>\n",
       "      <td>2</td>\n",
       "      <td>Boat Trailer</td>\n",
       "      <td>623</td>\n",
       "      <td>2021</td>\n",
       "      <td>Silver</td>\n",
       "      <td>105</td>\n",
       "      <td>Trailer</td>\n",
       "      <td>Standard</td>\n",
       "      <td>Gisborne</td>\n",
       "      <td>52,100</td>\n",
       "    </tr>\n",
       "    <tr>\n",
       "      <th>2022-02-13</th>\n",
       "      <td>3</td>\n",
       "      <td>Boat Trailer</td>\n",
       "      <td>623</td>\n",
       "      <td>2021</td>\n",
       "      <td>Silver</td>\n",
       "      <td>102</td>\n",
       "      <td>Trailer</td>\n",
       "      <td>Standard</td>\n",
       "      <td>Auckland</td>\n",
       "      <td>1,695,200</td>\n",
       "    </tr>\n",
       "    <tr>\n",
       "      <th>2021-11-13</th>\n",
       "      <td>4</td>\n",
       "      <td>Trailer</td>\n",
       "      <td>623</td>\n",
       "      <td>2021</td>\n",
       "      <td>Silver</td>\n",
       "      <td>106</td>\n",
       "      <td>Trailer</td>\n",
       "      <td>Standard</td>\n",
       "      <td>Hawke's Bay</td>\n",
       "      <td>182,700</td>\n",
       "    </tr>\n",
       "    <tr>\n",
       "      <th>2022-01-10</th>\n",
       "      <td>5</td>\n",
       "      <td>Trailer</td>\n",
       "      <td>623</td>\n",
       "      <td>2018</td>\n",
       "      <td>Silver</td>\n",
       "      <td>102</td>\n",
       "      <td>Trailer</td>\n",
       "      <td>Standard</td>\n",
       "      <td>Auckland</td>\n",
       "      <td>1,695,200</td>\n",
       "    </tr>\n",
       "    <tr>\n",
       "      <th>...</th>\n",
       "      <td>...</td>\n",
       "      <td>...</td>\n",
       "      <td>...</td>\n",
       "      <td>...</td>\n",
       "      <td>...</td>\n",
       "      <td>...</td>\n",
       "      <td>...</td>\n",
       "      <td>...</td>\n",
       "      <td>...</td>\n",
       "      <td>...</td>\n",
       "    </tr>\n",
       "    <tr>\n",
       "      <th>2021-12-12</th>\n",
       "      <td>4523</td>\n",
       "      <td>Trailer</td>\n",
       "      <td>549</td>\n",
       "      <td>1993</td>\n",
       "      <td>Silver</td>\n",
       "      <td>102</td>\n",
       "      <td>Homebuilt</td>\n",
       "      <td>Standard</td>\n",
       "      <td>Auckland</td>\n",
       "      <td>1,695,200</td>\n",
       "    </tr>\n",
       "    <tr>\n",
       "      <th>2021-12-21</th>\n",
       "      <td>4524</td>\n",
       "      <td>Trailer</td>\n",
       "      <td>549</td>\n",
       "      <td>1994</td>\n",
       "      <td>Grey</td>\n",
       "      <td>103</td>\n",
       "      <td>Homebuilt</td>\n",
       "      <td>Standard</td>\n",
       "      <td>Waikato</td>\n",
       "      <td>513,800</td>\n",
       "    </tr>\n",
       "    <tr>\n",
       "      <th>2022-01-25</th>\n",
       "      <td>4525</td>\n",
       "      <td>Trailer</td>\n",
       "      <td>623</td>\n",
       "      <td>1995</td>\n",
       "      <td>Green</td>\n",
       "      <td>105</td>\n",
       "      <td>Trailer</td>\n",
       "      <td>Standard</td>\n",
       "      <td>Gisborne</td>\n",
       "      <td>52,100</td>\n",
       "    </tr>\n",
       "    <tr>\n",
       "      <th>2022-04-02</th>\n",
       "      <td>4526</td>\n",
       "      <td>Trailer - Heavy</td>\n",
       "      <td>549</td>\n",
       "      <td>1990</td>\n",
       "      <td>Grey</td>\n",
       "      <td>103</td>\n",
       "      <td>Homebuilt</td>\n",
       "      <td>Standard</td>\n",
       "      <td>Waikato</td>\n",
       "      <td>513,800</td>\n",
       "    </tr>\n",
       "    <tr>\n",
       "      <th>2022-01-04</th>\n",
       "      <td>4527</td>\n",
       "      <td>Stationwagon</td>\n",
       "      <td>555</td>\n",
       "      <td>1995</td>\n",
       "      <td>Red</td>\n",
       "      <td>114</td>\n",
       "      <td>Hyundai</td>\n",
       "      <td>Standard</td>\n",
       "      <td>Canterbury</td>\n",
       "      <td>655,000</td>\n",
       "    </tr>\n",
       "  </tbody>\n",
       "</table>\n",
       "<p>4527 rows × 10 columns</p>\n",
       "</div>"
      ],
      "text/plain": [
       "             vehicle_id     vehicle_type  make_id  model_year   color  \\\n",
       "date_stolen                                                             \n",
       "2021-11-05            1          Trailer      623        2021  Silver   \n",
       "2021-12-13            2     Boat Trailer      623        2021  Silver   \n",
       "2022-02-13            3     Boat Trailer      623        2021  Silver   \n",
       "2021-11-13            4          Trailer      623        2021  Silver   \n",
       "2022-01-10            5          Trailer      623        2018  Silver   \n",
       "...                 ...              ...      ...         ...     ...   \n",
       "2021-12-12         4523          Trailer      549        1993  Silver   \n",
       "2021-12-21         4524          Trailer      549        1994    Grey   \n",
       "2022-01-25         4525          Trailer      623        1995   Green   \n",
       "2022-04-02         4526  Trailer - Heavy      549        1990    Grey   \n",
       "2022-01-04         4527     Stationwagon      555        1995     Red   \n",
       "\n",
       "             location_id  make_name make_type       region population  \n",
       "date_stolen                                                            \n",
       "2021-11-05           102    Trailer  Standard     Auckland  1,695,200  \n",
       "2021-12-13           105    Trailer  Standard     Gisborne     52,100  \n",
       "2022-02-13           102    Trailer  Standard     Auckland  1,695,200  \n",
       "2021-11-13           106    Trailer  Standard  Hawke's Bay    182,700  \n",
       "2022-01-10           102    Trailer  Standard     Auckland  1,695,200  \n",
       "...                  ...        ...       ...          ...        ...  \n",
       "2021-12-12           102  Homebuilt  Standard     Auckland  1,695,200  \n",
       "2021-12-21           103  Homebuilt  Standard      Waikato    513,800  \n",
       "2022-01-25           105    Trailer  Standard     Gisborne     52,100  \n",
       "2022-04-02           103  Homebuilt  Standard      Waikato    513,800  \n",
       "2022-01-04           114    Hyundai  Standard   Canterbury    655,000  \n",
       "\n",
       "[4527 rows x 10 columns]"
      ]
     },
     "execution_count": 30,
     "metadata": {},
     "output_type": "execute_result"
    }
   ],
   "source": [
    "thefts_full = thefts_w_makes.merge(locations,\"left\",left_on=thefts_w_makes[\"location_id\"],right_index=True)\n",
    "thefts_full"
   ]
  },
  {
   "cell_type": "markdown",
   "metadata": {},
   "source": [
    "Voilà! Now, we have the complete table, just like we would in SQL. We have the date of the theft, when and where it was committed, and which type of vehicle was stolen, etc. we are ready to aggregate!"
   ]
  },
  {
   "cell_type": "markdown",
   "metadata": {},
   "source": [
    "# Aggregating and plotting the data:\n",
    "\n",
    "In this step, we will:\n",
    "- Aggregate the data by time, location, and make etc. to answer our questions.\n",
    "- Use different visualizations to hopefully complete a sound and insightful analysis into this phenomenon."
   ]
  },
  {
   "cell_type": "markdown",
   "metadata": {},
   "source": [
    "### Which make types were stolen the most? \n",
    "To answer this question, it's a simple process of summing the thefts by make type, using **groupby()** and **sum()**"
   ]
  },
  {
   "cell_type": "code",
   "execution_count": null,
   "metadata": {},
   "outputs": [],
   "source": [
    "thefts_w_makes.groupby()"
   ]
  }
 ],
 "metadata": {
  "kernelspec": {
   "display_name": "base",
   "language": "python",
   "name": "python3"
  },
  "language_info": {
   "codemirror_mode": {
    "name": "ipython",
    "version": 3
   },
   "file_extension": ".py",
   "mimetype": "text/x-python",
   "name": "python",
   "nbconvert_exporter": "python",
   "pygments_lexer": "ipython3",
   "version": "3.11.3"
  },
  "orig_nbformat": 4
 },
 "nbformat": 4,
 "nbformat_minor": 2
}
