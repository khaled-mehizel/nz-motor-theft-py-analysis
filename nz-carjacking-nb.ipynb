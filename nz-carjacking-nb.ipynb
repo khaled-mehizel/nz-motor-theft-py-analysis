{
 "cells": [
  {
   "cell_type": "markdown",
   "metadata": {},
   "source": [
    "# Welcome!\n",
    "This is a notebook detailing my analysis of some data about motor theft in New Zealand over 6 months.\n",
    "The records contain information about the vehicle, including its unique ID, type, make, manufacture year, color the location of the incident, the day it was added to the database.\n",
    "\n",
    "I figured it was an appropriate phenomenon to study, considering the imminent announcement of GTA VI.\n",
    "\n",
    "The dataset is kindly provided by the wonderful people at [Maven Analytics](mavenanalytics.io), it can be acquired there for free.\n",
    "\n",
    "## Goals:\n",
    "### Which vehicle types were stolen the most? \n",
    "- I don't know what to expect, it's a safe bet to rule vehicle types like mobile machines, and SPVs. I also expect sport cars to be stolen the least. Stealing a Kia is nothing like stealing a Ferrari.\n",
    "### Have carjackings increased or decreased recently?\n",
    "- Analyzing the changes and trends of the phenomenon.\n",
    "### What day of the week are vehicles most often and least often stolen?\n",
    "- I'm quite curious about this one! If you stole a car, what day would you choose to do it?\n",
    "### Is the model year a factor? Does it affect a vehicle differently based on its type?\n",
    "- I expect prized cars from the 80s and earlier to be prime targets, highly valuable (particularly Japanese cars) without as much security as say, a 2023 Mercedes.\n",
    "### Which regions had the most carjackings?\n",
    "- I have no idea what the New Zealand provinces are, but a little filled map action will sort us well.\n",
    "### Which regions are above or below the average rate of thefts?\n",
    "- Using **transform()**, we'll be able to analyze whether a region is safer than others or not.\n",
    "\n"
   ]
  },
  {
   "cell_type": "markdown",
   "metadata": {},
   "source": [
    "## Let's start by importing all the libraries we'll need:\n"
   ]
  },
  {
   "cell_type": "code",
   "execution_count": 143,
   "metadata": {},
   "outputs": [],
   "source": [
    "# pandas\n",
    "import pandas as pd\n",
    "\n",
    "# numpy\n",
    "import numpy as np\n",
    "\n",
    "# matplotlib\n",
    "import matplotlib.pyplot as plt\n",
    "\n",
    "# seaborn, might need it\n",
    "import seaborn as sns\n",
    "\n",
    "#setting that shows seaborn visualizations instead of matplotlib's\n",
    "sns.set()\n",
    "# setting which plot style to use\n",
    "sns.set_style('darkgrid')\n",
    "#magic function that stores all the plots in the notebook\n",
    "%matplotlib inline"
   ]
  },
  {
   "cell_type": "markdown",
   "metadata": {},
   "source": [
    "## Data Import and Preprocessing\n",
    "\n",
    "### Next, we'll import our CSV files and perform some import pre-processing to save memory and time:\n",
    "- First we import the carjackings dataframe itself using **read_csv()**, set the date parser to true with specified date format, and use smaller integer data types when possible, these preprocessing steps will save us both time and performance.\n"
   ]
  },
  {
   "cell_type": "code",
   "execution_count": 144,
   "metadata": {},
   "outputs": [
    {
     "data": {
      "text/html": [
       "<div>\n",
       "<style scoped>\n",
       "    .dataframe tbody tr th:only-of-type {\n",
       "        vertical-align: middle;\n",
       "    }\n",
       "\n",
       "    .dataframe tbody tr th {\n",
       "        vertical-align: top;\n",
       "    }\n",
       "\n",
       "    .dataframe thead th {\n",
       "        text-align: right;\n",
       "    }\n",
       "</style>\n",
       "<table border=\"1\" class=\"dataframe\">\n",
       "  <thead>\n",
       "    <tr style=\"text-align: right;\">\n",
       "      <th></th>\n",
       "      <th>vehicle_id</th>\n",
       "      <th>vehicle_type</th>\n",
       "      <th>make_id</th>\n",
       "      <th>model_year</th>\n",
       "      <th>color</th>\n",
       "      <th>date_stolen</th>\n",
       "      <th>location_id</th>\n",
       "    </tr>\n",
       "  </thead>\n",
       "  <tbody>\n",
       "    <tr>\n",
       "      <th>323</th>\n",
       "      <td>324</td>\n",
       "      <td>Trailer</td>\n",
       "      <td>623</td>\n",
       "      <td>2020</td>\n",
       "      <td>Grey</td>\n",
       "      <td>2022-01-13</td>\n",
       "      <td>102</td>\n",
       "    </tr>\n",
       "    <tr>\n",
       "      <th>1746</th>\n",
       "      <td>1747</td>\n",
       "      <td>Saloon</td>\n",
       "      <td>550</td>\n",
       "      <td>1998</td>\n",
       "      <td>Silver</td>\n",
       "      <td>2021-12-19</td>\n",
       "      <td>104</td>\n",
       "    </tr>\n",
       "    <tr>\n",
       "      <th>230</th>\n",
       "      <td>231</td>\n",
       "      <td>Trailer</td>\n",
       "      <td>549</td>\n",
       "      <td>1987</td>\n",
       "      <td>Red</td>\n",
       "      <td>2022-03-05</td>\n",
       "      <td>115</td>\n",
       "    </tr>\n",
       "    <tr>\n",
       "      <th>1527</th>\n",
       "      <td>1528</td>\n",
       "      <td>Saloon</td>\n",
       "      <td>540</td>\n",
       "      <td>2003</td>\n",
       "      <td>Red</td>\n",
       "      <td>2022-01-23</td>\n",
       "      <td>104</td>\n",
       "    </tr>\n",
       "    <tr>\n",
       "      <th>3673</th>\n",
       "      <td>3674</td>\n",
       "      <td>Hatchback</td>\n",
       "      <td>576</td>\n",
       "      <td>2009</td>\n",
       "      <td>Black</td>\n",
       "      <td>2021-11-20</td>\n",
       "      <td>103</td>\n",
       "    </tr>\n",
       "  </tbody>\n",
       "</table>\n",
       "</div>"
      ],
      "text/plain": [
       "      vehicle_id vehicle_type  make_id  model_year   color date_stolen  \\\n",
       "323          324      Trailer      623        2020    Grey  2022-01-13   \n",
       "1746        1747       Saloon      550        1998  Silver  2021-12-19   \n",
       "230          231      Trailer      549        1987     Red  2022-03-05   \n",
       "1527        1528       Saloon      540        2003     Red  2022-01-23   \n",
       "3673        3674    Hatchback      576        2009   Black  2021-11-20   \n",
       "\n",
       "      location_id  \n",
       "323           102  \n",
       "1746          104  \n",
       "230           115  \n",
       "1527          104  \n",
       "3673          103  "
      ]
     },
     "execution_count": 144,
     "metadata": {},
     "output_type": "execute_result"
    }
   ],
   "source": [
    "# little variable to help make the code more readable\n",
    "veh_cols=[\"vehicle_id\",\"vehicle_type\",\"make_id\",\"model_year\",\"color\",\"date_stolen\",\"location_id\"]\n",
    "\n",
    "thefts = pd.read_csv(\"E:/projects/nz-motor-theft-py-analysis/stolen_vehicles.csv\",\n",
    "            usecols=veh_cols, # this will pass only the specified columns\n",
    "            header=0, # setting the first row as the header\n",
    "            parse_dates= [\"date_stolen\"], # allows pandas to directly make the date column a datetime64 type\n",
    "            date_format= \"%m/%d/%y\", # helps pandas get the correct date format\n",
    "            dtype={\"vehicle_id\": \"Int16\",\"make_id\":\"Int16\",\"model_year\":\"Int16\",\"location_id\":\"Int16\"}, #notice the capital letter in the \"Int\"s, more on that later\n",
    "            keep_default_na=True #keeps the NA values, so we'll be able to get rid of them later\n",
    ")\n",
    "thefts.sample(5)"
   ]
  },
  {
   "cell_type": "markdown",
   "metadata": {},
   "source": [
    "There's a lot of missing values here, and unfortunately we can't really do anything to fill them, so we'll have to get rid of them, but we'll save that for the cleaning stage.\n",
    "\n",
    "- For now, we'll import the second CSV file, the make details table."
   ]
  },
  {
   "cell_type": "code",
   "execution_count": 145,
   "metadata": {},
   "outputs": [
    {
     "data": {
      "text/html": [
       "<div>\n",
       "<style scoped>\n",
       "    .dataframe tbody tr th:only-of-type {\n",
       "        vertical-align: middle;\n",
       "    }\n",
       "\n",
       "    .dataframe tbody tr th {\n",
       "        vertical-align: top;\n",
       "    }\n",
       "\n",
       "    .dataframe thead th {\n",
       "        text-align: right;\n",
       "    }\n",
       "</style>\n",
       "<table border=\"1\" class=\"dataframe\">\n",
       "  <thead>\n",
       "    <tr style=\"text-align: right;\">\n",
       "      <th></th>\n",
       "      <th>make_name</th>\n",
       "      <th>make_type</th>\n",
       "    </tr>\n",
       "    <tr>\n",
       "      <th>make_id</th>\n",
       "      <th></th>\n",
       "      <th></th>\n",
       "    </tr>\n",
       "  </thead>\n",
       "  <tbody>\n",
       "    <tr>\n",
       "      <th>614</th>\n",
       "      <td>Takeuchi</td>\n",
       "      <td>Standard</td>\n",
       "    </tr>\n",
       "    <tr>\n",
       "      <th>581</th>\n",
       "      <td>Mitsubishio Fuso</td>\n",
       "      <td>Standard</td>\n",
       "    </tr>\n",
       "    <tr>\n",
       "      <th>602</th>\n",
       "      <td>Saab</td>\n",
       "      <td>Standard</td>\n",
       "    </tr>\n",
       "    <tr>\n",
       "      <th>528</th>\n",
       "      <td>Dacia</td>\n",
       "      <td>Standard</td>\n",
       "    </tr>\n",
       "    <tr>\n",
       "      <th>565</th>\n",
       "      <td>KTM</td>\n",
       "      <td>Standard</td>\n",
       "    </tr>\n",
       "  </tbody>\n",
       "</table>\n",
       "</div>"
      ],
      "text/plain": [
       "                make_name make_type\n",
       "make_id                            \n",
       "614              Takeuchi  Standard\n",
       "581      Mitsubishio Fuso  Standard\n",
       "602                  Saab  Standard\n",
       "528                 Dacia  Standard\n",
       "565                   KTM  Standard"
      ]
     },
     "execution_count": 145,
     "metadata": {},
     "output_type": "execute_result"
    }
   ],
   "source": [
    "makes = pd.read_csv('E:/projects/nz-motor-theft-py-analysis/make_details.csv',\n",
    "            index_col = \"make_id\",\n",
    "            header=0, \n",
    "            dtype={\"make_id\":\"Int16\"},\n",
    "            keep_default_na=True  \n",
    ")\n",
    "makes.sample(5)"
   ]
  },
  {
   "cell_type": "markdown",
   "metadata": {},
   "source": [
    "What a pretty dataframe. We'll join it to the first table soon, using **merge()** - pandas' version of the SQL join, I love SQL, so I feel right at home.\n"
   ]
  },
  {
   "cell_type": "markdown",
   "metadata": {},
   "source": [
    "- Now to import the location data:"
   ]
  },
  {
   "cell_type": "code",
   "execution_count": 146,
   "metadata": {},
   "outputs": [
    {
     "data": {
      "text/html": [
       "<div>\n",
       "<style scoped>\n",
       "    .dataframe tbody tr th:only-of-type {\n",
       "        vertical-align: middle;\n",
       "    }\n",
       "\n",
       "    .dataframe tbody tr th {\n",
       "        vertical-align: top;\n",
       "    }\n",
       "\n",
       "    .dataframe thead th {\n",
       "        text-align: right;\n",
       "    }\n",
       "</style>\n",
       "<table border=\"1\" class=\"dataframe\">\n",
       "  <thead>\n",
       "    <tr style=\"text-align: right;\">\n",
       "      <th></th>\n",
       "      <th>region</th>\n",
       "      <th>population</th>\n",
       "    </tr>\n",
       "    <tr>\n",
       "      <th>location_id</th>\n",
       "      <th></th>\n",
       "      <th></th>\n",
       "    </tr>\n",
       "  </thead>\n",
       "  <tbody>\n",
       "    <tr>\n",
       "      <th>101</th>\n",
       "      <td>Northland</td>\n",
       "      <td>201,500</td>\n",
       "    </tr>\n",
       "    <tr>\n",
       "      <th>102</th>\n",
       "      <td>Auckland</td>\n",
       "      <td>1,695,200</td>\n",
       "    </tr>\n",
       "    <tr>\n",
       "      <th>103</th>\n",
       "      <td>Waikato</td>\n",
       "      <td>513,800</td>\n",
       "    </tr>\n",
       "    <tr>\n",
       "      <th>104</th>\n",
       "      <td>Bay of Plenty</td>\n",
       "      <td>347,700</td>\n",
       "    </tr>\n",
       "    <tr>\n",
       "      <th>105</th>\n",
       "      <td>Gisborne</td>\n",
       "      <td>52,100</td>\n",
       "    </tr>\n",
       "  </tbody>\n",
       "</table>\n",
       "</div>"
      ],
      "text/plain": [
       "                    region population\n",
       "location_id                          \n",
       "101              Northland    201,500\n",
       "102               Auckland  1,695,200\n",
       "103                Waikato    513,800\n",
       "104          Bay of Plenty    347,700\n",
       "105               Gisborne     52,100"
      ]
     },
     "execution_count": 146,
     "metadata": {},
     "output_type": "execute_result"
    }
   ],
   "source": [
    "location_cols=[\"location_id\",\"region\",\"population\"] # columns to imported, there's only one country after all\n",
    "locations = pd.read_csv('E:/projects/nz-motor-theft-py-analysis/locations.csv',\n",
    "            index_col = \"location_id\",\n",
    "            usecols=location_cols,\n",
    "            header=0, \n",
    "            dtype={\"location_id\":\"int8\"},\n",
    "            keep_default_na=True\n",
    "  )\n",
    "locations.head()"
   ]
  },
  {
   "cell_type": "markdown",
   "metadata": {},
   "source": [
    "## Now that we have our data ready, it's time for cleaning."
   ]
  },
  {
   "cell_type": "markdown",
   "metadata": {},
   "source": [
    "- First, we'll check the stolen vehicles table:"
   ]
  },
  {
   "cell_type": "code",
   "execution_count": 147,
   "metadata": {},
   "outputs": [
    {
     "data": {
      "text/plain": [
       "(4553, 7)"
      ]
     },
     "execution_count": 147,
     "metadata": {},
     "output_type": "execute_result"
    }
   ],
   "source": [
    "thefts.shape"
   ]
  },
  {
   "cell_type": "markdown",
   "metadata": {},
   "source": [
    "6 columns and 4527 rows, including the ones with missing data."
   ]
  },
  {
   "cell_type": "code",
   "execution_count": 148,
   "metadata": {},
   "outputs": [
    {
     "data": {
      "text/plain": [
       "vehicle_id       0\n",
       "vehicle_type    26\n",
       "make_id         15\n",
       "model_year      15\n",
       "color           15\n",
       "date_stolen      0\n",
       "location_id      0\n",
       "dtype: int64"
      ]
     },
     "execution_count": 148,
     "metadata": {},
     "output_type": "execute_result"
    }
   ],
   "source": [
    "thefts.isna().sum() #first method will tell us if the value is missing or not\n"
   ]
  },
  {
   "cell_type": "markdown",
   "metadata": {},
   "source": [
    "Plenty of missing values. As mentioned before, we can't really fill them with anything, so we'll just get rid of any rows missing data using **dropna()**\n",
    "Thankfully, it's only 26 rows. Negligible against the remaining 4520 (and header)"
   ]
  },
  {
   "cell_type": "code",
   "execution_count": 149,
   "metadata": {},
   "outputs": [
    {
     "data": {
      "text/plain": [
       "vehicle_id      0\n",
       "vehicle_type    0\n",
       "make_id         0\n",
       "model_year      0\n",
       "color           0\n",
       "date_stolen     0\n",
       "location_id     0\n",
       "dtype: int64"
      ]
     },
     "execution_count": 149,
     "metadata": {},
     "output_type": "execute_result"
    }
   ],
   "source": [
    "thefts = thefts.dropna(axis = 0, how = \"any\") #this will delete *any* rows that are missing values\n",
    "thefts.isna().sum()"
   ]
  },
  {
   "cell_type": "markdown",
   "metadata": {},
   "source": [
    "I noticed that the list of vehicle types column is quite granular and could do with a little touch up. We'll use **contains()** nested in **where()** to replace any rows.\n"
   ]
  },
  {
   "cell_type": "code",
   "execution_count": 150,
   "metadata": {},
   "outputs": [
    {
     "data": {
      "text/plain": [
       "array(['Trailer', 'Boat Trailer', 'Roadbike', 'Moped', 'Trailer - Heavy',\n",
       "       'Caravan', 'Hatchback', 'Saloon', 'Stationwagon', 'Tractor',\n",
       "       'Trail Bike', 'Light Van', 'All Terrain Vehicle', 'Utility',\n",
       "       'Other Truck', 'Sports Car', 'Flat Deck Truck', 'Light Bus',\n",
       "       'Mobile Home - Light', 'Convertible', 'Heavy Van',\n",
       "       'Special Purpose Vehicle', 'Articulated Truck',\n",
       "       'Cab and Chassis Only', 'Mobile Machine'], dtype=object)"
      ]
     },
     "execution_count": 150,
     "metadata": {},
     "output_type": "execute_result"
    }
   ],
   "source": [
    "thefts[\"vehicle_type\"].unique()"
   ]
  },
  {
   "cell_type": "markdown",
   "metadata": {},
   "source": [
    "The way I see it:\n",
    "- A trailer isn't that different to a boat trailer. <br>\n",
    "- Vans should be a single category as well. <br>\n",
    "- Some truck categories have too small a value, so we'll include those in a big truck category.\n",
    "- Cab & Chassis Only trucks are simply trucks without the truck.<br>\n",
    "- I will also change \"Mobile Home - Light\" into \"Mobile Home\" because there's only one type.<br>\n",
    "\n",
    "I apologize, it's quite an ugly snippet of code, and yes, I did try to use the **regex** library, but it doesn't support Dataframes and Series. So, I ended up making this:"
   ]
  },
  {
   "cell_type": "code",
   "execution_count": 151,
   "metadata": {},
   "outputs": [
    {
     "data": {
      "text/plain": [
       "array(['Trailer', 'Roadbike', 'Moped', 'Caravan', 'Hatchback', 'Saloon',\n",
       "       'Stationwagon', 'Tractor', 'Trail Bike', 'Van',\n",
       "       'All Terrain Vehicle', 'Utility', 'Truck', 'Sports Car', 'Bus',\n",
       "       'Mobile Home', 'Convertible', 'Special Purpose Vehicle',\n",
       "       'Mobile Machine'], dtype=object)"
      ]
     },
     "execution_count": 151,
     "metadata": {},
     "output_type": "execute_result"
    }
   ],
   "source": [
    "thefts['vehicle_type'] = thefts['vehicle_type'].where((thefts['vehicle_type'].str.contains('Trailer') == False), other=\"Trailer\")\n",
    "thefts['vehicle_type'] = thefts['vehicle_type'].where((thefts['vehicle_type'].str.contains('Truck') == False), other=\"Truck\")\n",
    "thefts['vehicle_type'] = thefts['vehicle_type'].where((thefts['vehicle_type'].str.contains('Van') == False), other=\"Van\")\n",
    "thefts['vehicle_type'] = thefts['vehicle_type'].where((thefts['vehicle_type'].str.contains('Bus') == False), other=\"Bus\")\n",
    "thefts['vehicle_type'] = thefts['vehicle_type'].where((thefts['vehicle_type'] != \"Mobile Home - Light\"), other=\"Mobile Home\")\n",
    "thefts['vehicle_type'] = thefts['vehicle_type'].where((thefts['vehicle_type'] != \"Cab and Chassis Only\"), other=\"Truck\")\n",
    "thefts['vehicle_type'].unique()"
   ]
  },
  {
   "cell_type": "markdown",
   "metadata": {},
   "source": [
    "It replaces any rows with the mention of a trailer with simply \"trailer\", van with \"vans\" and so on.\n",
    "I spent over an hour trying to avoid that spaghetti but alas."
   ]
  },
  {
   "cell_type": "markdown",
   "metadata": {},
   "source": [
    "### We'll add a column for both days and months for some of our anaylses for later."
   ]
  },
  {
   "cell_type": "code",
   "execution_count": 152,
   "metadata": {},
   "outputs": [
    {
     "data": {
      "text/html": [
       "<div>\n",
       "<style scoped>\n",
       "    .dataframe tbody tr th:only-of-type {\n",
       "        vertical-align: middle;\n",
       "    }\n",
       "\n",
       "    .dataframe tbody tr th {\n",
       "        vertical-align: top;\n",
       "    }\n",
       "\n",
       "    .dataframe thead th {\n",
       "        text-align: right;\n",
       "    }\n",
       "</style>\n",
       "<table border=\"1\" class=\"dataframe\">\n",
       "  <thead>\n",
       "    <tr style=\"text-align: right;\">\n",
       "      <th></th>\n",
       "      <th>vehicle_id</th>\n",
       "      <th>vehicle_type</th>\n",
       "      <th>make_id</th>\n",
       "      <th>model_year</th>\n",
       "      <th>color</th>\n",
       "      <th>date_stolen</th>\n",
       "      <th>location_id</th>\n",
       "      <th>month</th>\n",
       "      <th>day</th>\n",
       "    </tr>\n",
       "  </thead>\n",
       "  <tbody>\n",
       "    <tr>\n",
       "      <th>1722</th>\n",
       "      <td>1723</td>\n",
       "      <td>Stationwagon</td>\n",
       "      <td>550</td>\n",
       "      <td>1997</td>\n",
       "      <td>Blue</td>\n",
       "      <td>2022-03-25</td>\n",
       "      <td>109</td>\n",
       "      <td>3</td>\n",
       "      <td>4</td>\n",
       "    </tr>\n",
       "    <tr>\n",
       "      <th>1860</th>\n",
       "      <td>1861</td>\n",
       "      <td>Saloon</td>\n",
       "      <td>587</td>\n",
       "      <td>1998</td>\n",
       "      <td>Blue</td>\n",
       "      <td>2021-10-18</td>\n",
       "      <td>103</td>\n",
       "      <td>10</td>\n",
       "      <td>0</td>\n",
       "    </tr>\n",
       "    <tr>\n",
       "      <th>664</th>\n",
       "      <td>665</td>\n",
       "      <td>Moped</td>\n",
       "      <td>636</td>\n",
       "      <td>2011</td>\n",
       "      <td>Silver</td>\n",
       "      <td>2021-11-16</td>\n",
       "      <td>114</td>\n",
       "      <td>11</td>\n",
       "      <td>1</td>\n",
       "    </tr>\n",
       "    <tr>\n",
       "      <th>1055</th>\n",
       "      <td>1056</td>\n",
       "      <td>Saloon</td>\n",
       "      <td>550</td>\n",
       "      <td>1997</td>\n",
       "      <td>White</td>\n",
       "      <td>2022-03-04</td>\n",
       "      <td>102</td>\n",
       "      <td>3</td>\n",
       "      <td>4</td>\n",
       "    </tr>\n",
       "    <tr>\n",
       "      <th>885</th>\n",
       "      <td>886</td>\n",
       "      <td>Roadbike</td>\n",
       "      <td>561</td>\n",
       "      <td>2016</td>\n",
       "      <td>Green</td>\n",
       "      <td>2021-11-21</td>\n",
       "      <td>109</td>\n",
       "      <td>11</td>\n",
       "      <td>6</td>\n",
       "    </tr>\n",
       "  </tbody>\n",
       "</table>\n",
       "</div>"
      ],
      "text/plain": [
       "      vehicle_id  vehicle_type  make_id  model_year   color date_stolen  \\\n",
       "1722        1723  Stationwagon      550        1997    Blue  2022-03-25   \n",
       "1860        1861        Saloon      587        1998    Blue  2021-10-18   \n",
       "664          665         Moped      636        2011  Silver  2021-11-16   \n",
       "1055        1056        Saloon      550        1997   White  2022-03-04   \n",
       "885          886      Roadbike      561        2016   Green  2021-11-21   \n",
       "\n",
       "      location_id  month  day  \n",
       "1722          109      3    4  \n",
       "1860          103     10    0  \n",
       "664           114     11    1  \n",
       "1055          102      3    4  \n",
       "885           109     11    6  "
      ]
     },
     "execution_count": 152,
     "metadata": {},
     "output_type": "execute_result"
    }
   ],
   "source": [
    "thefts[\"month\"]= thefts[\"date_stolen\"].dt.month\n",
    "thefts[\"day\"]= thefts[\"date_stolen\"].dt.day_of_week\n",
    "thefts.sample(5)\n"
   ]
  },
  {
   "cell_type": "markdown",
   "metadata": {},
   "source": [
    "### Next, we'll check the makes table for any missing values, it's a lookup table, so I'm hoping nothing is missing.\n",
    "Let's look at the shape:\n"
   ]
  },
  {
   "cell_type": "code",
   "execution_count": 153,
   "metadata": {},
   "outputs": [
    {
     "data": {
      "text/plain": [
       "(138, 2)"
      ]
     },
     "execution_count": 153,
     "metadata": {},
     "output_type": "execute_result"
    }
   ],
   "source": [
    "makes.shape"
   ]
  },
  {
   "cell_type": "markdown",
   "metadata": {},
   "source": [
    "Let's check if any of these 138 rows are missing any data:\n"
   ]
  },
  {
   "cell_type": "code",
   "execution_count": 154,
   "metadata": {},
   "outputs": [
    {
     "data": {
      "text/plain": [
       "make_name    0\n",
       "make_type    0\n",
       "dtype: int64"
      ]
     },
     "execution_count": 154,
     "metadata": {},
     "output_type": "execute_result"
    }
   ],
   "source": [
    "makes.isna().sum()"
   ]
  },
  {
   "cell_type": "markdown",
   "metadata": {},
   "source": [
    "None! What a relief.\n",
    "Now, for the location table, it's likely the same, as it's a lookup table as well."
   ]
  },
  {
   "cell_type": "code",
   "execution_count": 155,
   "metadata": {},
   "outputs": [
    {
     "data": {
      "text/plain": [
       "(16, 2)"
      ]
     },
     "execution_count": 155,
     "metadata": {},
     "output_type": "execute_result"
    }
   ],
   "source": [
    "locations.shape"
   ]
  },
  {
   "cell_type": "code",
   "execution_count": 156,
   "metadata": {},
   "outputs": [
    {
     "data": {
      "text/plain": [
       "region        0\n",
       "population    0\n",
       "dtype: int64"
      ]
     },
     "execution_count": 156,
     "metadata": {},
     "output_type": "execute_result"
    }
   ],
   "source": [
    "locations.isna().sum()"
   ]
  },
  {
   "cell_type": "markdown",
   "metadata": {},
   "source": [
    "Success! There is no missing data in our lookup tables!"
   ]
  },
  {
   "cell_type": "markdown",
   "metadata": {},
   "source": [
    "# Joining the Data tables:\n",
    "For this, we'll use **merge()**, and NOT **join()** and keys like make_id and location_id. We'll do two tables at a time to keep the code more readable."
   ]
  },
  {
   "cell_type": "markdown",
   "metadata": {},
   "source": [
    "First, we'll join the theft and make tables, using the make_id column, which is common to both tables."
   ]
  },
  {
   "cell_type": "code",
   "execution_count": 157,
   "metadata": {},
   "outputs": [
    {
     "data": {
      "text/html": [
       "<div>\n",
       "<style scoped>\n",
       "    .dataframe tbody tr th:only-of-type {\n",
       "        vertical-align: middle;\n",
       "    }\n",
       "\n",
       "    .dataframe tbody tr th {\n",
       "        vertical-align: top;\n",
       "    }\n",
       "\n",
       "    .dataframe thead th {\n",
       "        text-align: right;\n",
       "    }\n",
       "</style>\n",
       "<table border=\"1\" class=\"dataframe\">\n",
       "  <thead>\n",
       "    <tr style=\"text-align: right;\">\n",
       "      <th></th>\n",
       "      <th>vehicle_id</th>\n",
       "      <th>vehicle_type</th>\n",
       "      <th>make_id</th>\n",
       "      <th>model_year</th>\n",
       "      <th>color</th>\n",
       "      <th>date_stolen</th>\n",
       "      <th>location_id</th>\n",
       "      <th>month</th>\n",
       "      <th>day</th>\n",
       "      <th>make_name</th>\n",
       "      <th>make_type</th>\n",
       "    </tr>\n",
       "  </thead>\n",
       "  <tbody>\n",
       "    <tr>\n",
       "      <th>0</th>\n",
       "      <td>1</td>\n",
       "      <td>Trailer</td>\n",
       "      <td>623</td>\n",
       "      <td>2021</td>\n",
       "      <td>Silver</td>\n",
       "      <td>2021-11-05</td>\n",
       "      <td>102</td>\n",
       "      <td>11</td>\n",
       "      <td>4</td>\n",
       "      <td>Trailer</td>\n",
       "      <td>Standard</td>\n",
       "    </tr>\n",
       "    <tr>\n",
       "      <th>1</th>\n",
       "      <td>2</td>\n",
       "      <td>Trailer</td>\n",
       "      <td>623</td>\n",
       "      <td>2021</td>\n",
       "      <td>Silver</td>\n",
       "      <td>2021-12-13</td>\n",
       "      <td>105</td>\n",
       "      <td>12</td>\n",
       "      <td>0</td>\n",
       "      <td>Trailer</td>\n",
       "      <td>Standard</td>\n",
       "    </tr>\n",
       "    <tr>\n",
       "      <th>2</th>\n",
       "      <td>3</td>\n",
       "      <td>Trailer</td>\n",
       "      <td>623</td>\n",
       "      <td>2021</td>\n",
       "      <td>Silver</td>\n",
       "      <td>2022-02-13</td>\n",
       "      <td>102</td>\n",
       "      <td>2</td>\n",
       "      <td>6</td>\n",
       "      <td>Trailer</td>\n",
       "      <td>Standard</td>\n",
       "    </tr>\n",
       "    <tr>\n",
       "      <th>3</th>\n",
       "      <td>4</td>\n",
       "      <td>Trailer</td>\n",
       "      <td>623</td>\n",
       "      <td>2021</td>\n",
       "      <td>Silver</td>\n",
       "      <td>2021-11-13</td>\n",
       "      <td>106</td>\n",
       "      <td>11</td>\n",
       "      <td>5</td>\n",
       "      <td>Trailer</td>\n",
       "      <td>Standard</td>\n",
       "    </tr>\n",
       "    <tr>\n",
       "      <th>4</th>\n",
       "      <td>5</td>\n",
       "      <td>Trailer</td>\n",
       "      <td>623</td>\n",
       "      <td>2018</td>\n",
       "      <td>Silver</td>\n",
       "      <td>2022-01-10</td>\n",
       "      <td>102</td>\n",
       "      <td>1</td>\n",
       "      <td>0</td>\n",
       "      <td>Trailer</td>\n",
       "      <td>Standard</td>\n",
       "    </tr>\n",
       "  </tbody>\n",
       "</table>\n",
       "</div>"
      ],
      "text/plain": [
       "   vehicle_id vehicle_type  make_id  model_year   color date_stolen  \\\n",
       "0           1      Trailer      623        2021  Silver  2021-11-05   \n",
       "1           2      Trailer      623        2021  Silver  2021-12-13   \n",
       "2           3      Trailer      623        2021  Silver  2022-02-13   \n",
       "3           4      Trailer      623        2021  Silver  2021-11-13   \n",
       "4           5      Trailer      623        2018  Silver  2022-01-10   \n",
       "\n",
       "   location_id  month  day make_name make_type  \n",
       "0          102     11    4   Trailer  Standard  \n",
       "1          105     12    0   Trailer  Standard  \n",
       "2          102      2    6   Trailer  Standard  \n",
       "3          106     11    5   Trailer  Standard  \n",
       "4          102      1    0   Trailer  Standard  "
      ]
     },
     "execution_count": 157,
     "metadata": {},
     "output_type": "execute_result"
    }
   ],
   "source": [
    "thefts_w_makes = thefts.merge(makes,\"left\",left_on=thefts[\"make_id\"],right_index=True)\n",
    "thefts_w_makes.head()"
   ]
  },
  {
   "cell_type": "markdown",
   "metadata": {},
   "source": [
    "Next, we'll join the location data, for the complete package:"
   ]
  },
  {
   "cell_type": "code",
   "execution_count": 158,
   "metadata": {},
   "outputs": [
    {
     "data": {
      "text/html": [
       "<div>\n",
       "<style scoped>\n",
       "    .dataframe tbody tr th:only-of-type {\n",
       "        vertical-align: middle;\n",
       "    }\n",
       "\n",
       "    .dataframe tbody tr th {\n",
       "        vertical-align: top;\n",
       "    }\n",
       "\n",
       "    .dataframe thead th {\n",
       "        text-align: right;\n",
       "    }\n",
       "</style>\n",
       "<table border=\"1\" class=\"dataframe\">\n",
       "  <thead>\n",
       "    <tr style=\"text-align: right;\">\n",
       "      <th></th>\n",
       "      <th>vehicle_id</th>\n",
       "      <th>vehicle_type</th>\n",
       "      <th>make_id</th>\n",
       "      <th>model_year</th>\n",
       "      <th>color</th>\n",
       "      <th>date_stolen</th>\n",
       "      <th>location_id</th>\n",
       "      <th>month</th>\n",
       "      <th>day</th>\n",
       "      <th>make_name</th>\n",
       "      <th>make_type</th>\n",
       "      <th>region</th>\n",
       "      <th>population</th>\n",
       "    </tr>\n",
       "  </thead>\n",
       "  <tbody>\n",
       "    <tr>\n",
       "      <th>3844</th>\n",
       "      <td>3845</td>\n",
       "      <td>Van</td>\n",
       "      <td>580</td>\n",
       "      <td>2002</td>\n",
       "      <td>White</td>\n",
       "      <td>2022-02-01</td>\n",
       "      <td>114</td>\n",
       "      <td>2</td>\n",
       "      <td>1</td>\n",
       "      <td>Mitsubishi</td>\n",
       "      <td>Standard</td>\n",
       "      <td>Canterbury</td>\n",
       "      <td>655,000</td>\n",
       "    </tr>\n",
       "    <tr>\n",
       "      <th>2471</th>\n",
       "      <td>2472</td>\n",
       "      <td>Hatchback</td>\n",
       "      <td>587</td>\n",
       "      <td>2005</td>\n",
       "      <td>Silver</td>\n",
       "      <td>2022-03-29</td>\n",
       "      <td>114</td>\n",
       "      <td>3</td>\n",
       "      <td>1</td>\n",
       "      <td>Nissan</td>\n",
       "      <td>Standard</td>\n",
       "      <td>Canterbury</td>\n",
       "      <td>655,000</td>\n",
       "    </tr>\n",
       "    <tr>\n",
       "      <th>1786</th>\n",
       "      <td>1787</td>\n",
       "      <td>Saloon</td>\n",
       "      <td>550</td>\n",
       "      <td>2007</td>\n",
       "      <td>Gold</td>\n",
       "      <td>2022-02-19</td>\n",
       "      <td>102</td>\n",
       "      <td>2</td>\n",
       "      <td>5</td>\n",
       "      <td>Honda</td>\n",
       "      <td>Standard</td>\n",
       "      <td>Auckland</td>\n",
       "      <td>1,695,200</td>\n",
       "    </tr>\n",
       "    <tr>\n",
       "      <th>2799</th>\n",
       "      <td>2800</td>\n",
       "      <td>Saloon</td>\n",
       "      <td>507</td>\n",
       "      <td>2009</td>\n",
       "      <td>Silver</td>\n",
       "      <td>2022-02-26</td>\n",
       "      <td>102</td>\n",
       "      <td>2</td>\n",
       "      <td>5</td>\n",
       "      <td>Audi</td>\n",
       "      <td>Standard</td>\n",
       "      <td>Auckland</td>\n",
       "      <td>1,695,200</td>\n",
       "    </tr>\n",
       "    <tr>\n",
       "      <th>2757</th>\n",
       "      <td>2758</td>\n",
       "      <td>Stationwagon</td>\n",
       "      <td>610</td>\n",
       "      <td>2006</td>\n",
       "      <td>Blue</td>\n",
       "      <td>2022-04-03</td>\n",
       "      <td>102</td>\n",
       "      <td>4</td>\n",
       "      <td>6</td>\n",
       "      <td>Subaru</td>\n",
       "      <td>Standard</td>\n",
       "      <td>Auckland</td>\n",
       "      <td>1,695,200</td>\n",
       "    </tr>\n",
       "  </tbody>\n",
       "</table>\n",
       "</div>"
      ],
      "text/plain": [
       "      vehicle_id  vehicle_type  make_id  model_year   color date_stolen  \\\n",
       "3844        3845           Van      580        2002   White  2022-02-01   \n",
       "2471        2472     Hatchback      587        2005  Silver  2022-03-29   \n",
       "1786        1787        Saloon      550        2007    Gold  2022-02-19   \n",
       "2799        2800        Saloon      507        2009  Silver  2022-02-26   \n",
       "2757        2758  Stationwagon      610        2006    Blue  2022-04-03   \n",
       "\n",
       "      location_id  month  day   make_name make_type      region population  \n",
       "3844          114      2    1  Mitsubishi  Standard  Canterbury    655,000  \n",
       "2471          114      3    1      Nissan  Standard  Canterbury    655,000  \n",
       "1786          102      2    5       Honda  Standard    Auckland  1,695,200  \n",
       "2799          102      2    5        Audi  Standard    Auckland  1,695,200  \n",
       "2757          102      4    6      Subaru  Standard    Auckland  1,695,200  "
      ]
     },
     "execution_count": 158,
     "metadata": {},
     "output_type": "execute_result"
    }
   ],
   "source": [
    "thefts_full = thefts_w_makes.merge(locations,\"left\",left_on=thefts_w_makes[\"location_id\"],right_index=True)\n",
    "thefts_full.sample(5)"
   ]
  },
  {
   "cell_type": "markdown",
   "metadata": {},
   "source": [
    "Voilà! Now, we have the complete table, just like we would in SQL. We have the date of the theft, when and where it was committed, and which type of vehicle was stolen, etc. we are ready to aggregate!"
   ]
  },
  {
   "cell_type": "markdown",
   "metadata": {},
   "source": [
    "# Aggregating and plotting the data:\n",
    "\n",
    "In this step, we will:\n",
    "- Aggregate the data by time, location, and make etc. to answer our questions.\n",
    "- Use different visualizations to hopefully complete a sound and insightful analysis into this phenomenon."
   ]
  },
  {
   "cell_type": "markdown",
   "metadata": {},
   "source": [
    "### Which vehicle types were stolen the most? \n",
    "To answer this question, it's a simple process of summing the thefts by make type, using **groupby()** and **agg()**.\n",
    "I also used **query()** to filter out types that have been stolen less than 5 times, and used the **plot()** method to do the, well, plotting."
   ]
  },
  {
   "cell_type": "code",
   "execution_count": 159,
   "metadata": {},
   "outputs": [
    {
     "data": {
      "image/png": "[encoded data removed]",
      "text/plain": [
       "<Figure size 900x600 with 1 Axes>"
      ]
     },
     "metadata": {},
     "output_type": "display_data"
    }
   ],
   "source": [
    "(thefts_full\n",
    ".groupby('vehicle_type')\n",
    ".agg(theft_count=('vehicle_id','count'))\n",
    ".query(\"theft_count > 5\")\n",
    ".sort_values(\"theft_count\", ascending=True)\n",
    ".rename(columns={\"theft_count\":\"Thefts\"})\n",
    ".plot(kind=\"barh\", \n",
    "figsize=(9,6),\n",
    "ylabel= \"Vehicle Type\",\n",
    "legend=False))\n",
    "plt.title(\"Motor Thefts in New Zealand by Vehicle Type\", fontweight=\"bold\");"
   ]
  },
  {
   "cell_type": "markdown",
   "metadata": {},
   "source": [
    "When it comes to cars, we notice that saloons and station wagons reign supreme. Sport cars are often conspicuous and come with extra security features, as they're usually high end, making them harder to steal. Wagons are neat, the new V90 from Volvo looks amazing.\n",
    "\n",
    "Trailers also seem to be stolen quite often, I'm still trying to wrap my head around how that would work, does the thief just bring a semi truck or tractor and takes it away? That doesn't seem too difficult now that I think about it."
   ]
  },
  {
   "cell_type": "markdown",
   "metadata": {},
   "source": [
    "### Has the number of carjacking increased recently?\n",
    "Mostly the same code as last time, except this time we'll filter the values using **.loc()** only to January 2022, aggregate using the date column, and make a line chart."
   ]
  },
  {
   "cell_type": "code",
   "execution_count": 160,
   "metadata": {},
   "outputs": [
    {
     "data": {
      "image/png": "[encoded data removed]",
      "text/plain": [
       "<Figure size 900x600 with 1 Axes>"
      ]
     },
     "metadata": {},
     "output_type": "display_data"
    }
   ],
   "source": [
    "(thefts_full.loc[(thefts_full[\"date_stolen\"] >= \"2022-01-01\") & (thefts_full[\"date_stolen\"] < \"2022-03-31\")]\n",
    ".groupby('date_stolen')\n",
    ".agg(theft_count=('vehicle_id','count'))\n",
    ".query(\"date_stolen > '2021-01' and date_stolen < '2022-03-31'\")\n",
    ".rename(columns={\"theft_count\":\"Thefts\"})\n",
    ".plot(kind=\"line\", \n",
    "figsize=(9,6),\n",
    "legend=False,\n",
    "xlabel= \"Theft Date\"))\n",
    "plt.title(\"Motor Thefts in New Zealand by Date\", fontweight=\"bold\");"
   ]
  },
  {
   "cell_type": "markdown",
   "metadata": {},
   "source": [
    "We notice an increase after 2022, possibly due to the lift of COVID-19 regulations."
   ]
  },
  {
   "cell_type": "markdown",
   "metadata": {},
   "source": [
    "### What day of the week are vehicles most often and least often stolen?\n",
    "A simple bar chart will do for this one.\n",
    "We'll use an array of day numbers, and a list of day names, and run them in the xticks function. I initially tried to do this with a dictionary, but that surprisingly didn't work!"
   ]
  },
  {
   "cell_type": "code",
   "execution_count": 187,
   "metadata": {},
   "outputs": [
    {
     "data": {
      "image/png": "[encoded data removed]",
      "text/plain": [
       "<Figure size 900x600 with 1 Axes>"
      ]
     },
     "metadata": {},
     "output_type": "display_data"
    }
   ],
   "source": [
    "day_of_week = [0,1,2,3,4,5,6]\n",
    "day_name = [\"Monday\",\"Tuesday\",\"Wednesday\",\"Thursday\",\"Friday\",\"Saturday\",\"Sunday\"]\n",
    "(thefts_full\n",
    ".groupby(\"day\")\n",
    ".agg(theft_count=('vehicle_id','count'))\n",
    ".rename(columns={\"theft_count\":\"Thefts\"})\n",
    ".plot(kind=\"bar\", \n",
    "figsize=(9,6),\n",
    "legend=False,\n",
    "xlabel= \"Day of Week\"))\n",
    "plt.xticks(ticks= day_of_week, labels = day_name, rotation=0)\n",
    "plt.title(\"Motor Thefts in New Zealand by Day of Week\", fontweight=\"bold\");"
   ]
  },
  {
   "cell_type": "markdown",
   "metadata": {},
   "source": [
    "Early days of the week seem to have more thefts than the rest of the week. There's a slight increase on Fridays but not as much as Mondays and Tuesdays.\n",
    "Getting your car stolen on Monday seems like a terrific way to start your week."
   ]
  }
 ],
 "metadata": {
  "kernelspec": {
   "display_name": "base",
   "language": "python",
   "name": "python3"
  },
  "language_info": {
   "codemirror_mode": {
    "name": "ipython",
    "version": 3
   },
   "file_extension": ".py",
   "mimetype": "text/x-python",
   "name": "python",
   "nbconvert_exporter": "python",
   "pygments_lexer": "ipython3",
   "version": "3.11.3"
  },
  "orig_nbformat": 4
 },
 "nbformat": 4,
 "nbformat_minor": 2
}
