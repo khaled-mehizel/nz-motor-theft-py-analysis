{
 "cells": [
  {
   "cell_type": "markdown",
   "metadata": {},
   "source": [
    "# Welcome!\n",
    "This is a notebook detailing my analysis of some data about motor theft in New Zealand over 6 months.\n",
    "The records contain information about the vehicle, including its unique ID, type, make, manufacture year, color the location of the incident, the day it was added to the database.\n",
    "\n",
    "I figured it was an appropriate phenomenon to study, considering the imminent announcement of GTA VI.\n",
    "\n",
    "The dataset is kindly provided by the wonderful people at [Maven Analytics](mavenanalytics.io), it can be acquired there for free.\n",
    "\n",
    "## Goals:\n",
    "### Which makes were stolen the most? \n",
    "- I expect standard cars to be the biggest victims, luxury cars tend to have more security features, and I don't think a common outlaw would want to accidentally steal a mob boss' car. Trailers are such are also prime candidates because you can just stick them to a tractor of any kind and run off with them, with the owner inside if you're feeling adventurous.\n",
    "### What day of the week are vehicles most often and least often stolen?\n",
    "- I'm quite curious about this one! If you stole a car, what day would you choose to do it?\n",
    "### Is the model year a factor? Does it affect a vehicle differently based on its type?\n",
    "- I expect prized cars from the 80s and earlier to be prime targets, highly valuable (particularly Japanese cars) without as much security as say, a 2023 Mercedes.\n",
    "### Which regions had the most carjackings?\n",
    "- I have no idea what the New Zealand provinces are, but a little filled map action will sort us well.\n",
    "### Have carjackings increased or decreased in these six months?\n",
    "- Analyzing the changes and trends of the phenomenon.\n",
    "\n",
    "\n"
   ]
  },
  {
   "cell_type": "markdown",
   "metadata": {},
   "source": [
    "## Let's start by importing all the libraries we'll need:\n"
   ]
  },
  {
   "cell_type": "code",
   "execution_count": 1,
   "metadata": {},
   "outputs": [],
   "source": [
    "# pandas\n",
    "import pandas as pd\n",
    "\n",
    "# numpy\n",
    "import numpy as np\n",
    "\n",
    "# matplotlib\n",
    "import matplotlib.pyplot as plt\n",
    "\n",
    "# seaborn, might need it\n",
    "import seaborn as sns\n",
    "\n",
    "# setting which plot style to use, I chose this one because a beige background is easier on the eyes, and it's viewable by colorblind people too\n",
    "plt.style.use(\"Solarize_Light2\")\n",
    "\n",
    "#magic function that stores all the plots in the notebook\n",
    "%matplotlib inline"
   ]
  },
  {
   "cell_type": "markdown",
   "metadata": {},
   "source": [
    "## Data Import and Preprocessing\n",
    "\n",
    "### Next, we'll import our CSV files and perform some import pre-processing to save memory and time:\n",
    "- First we import the carjackings dataframe itself, set the date parser to true for performance gain, and use smaller integer data types when possible, for massive memory gains."
   ]
  },
  {
   "cell_type": "code",
   "execution_count": 5,
   "metadata": {},
   "outputs": [
    {
     "ename": "SyntaxError",
     "evalue": "invalid syntax. Perhaps you forgot a comma? (3415840379.py, line 6)",
     "output_type": "error",
     "traceback": [
      "\u001b[1;36m  Cell \u001b[1;32mIn[5], line 6\u001b[1;36m\u001b[0m\n\u001b[1;33m    index_col= \"date_stolen\" # sets the the date column as the index\u001b[0m\n\u001b[1;37m               ^\u001b[0m\n\u001b[1;31mSyntaxError\u001b[0m\u001b[1;31m:\u001b[0m invalid syntax. Perhaps you forgot a comma?\n"
     ]
    }
   ],
   "source": [
    "# little variable to help make the code more readable\n",
    "veh_cols=[\"vehicle_id\",\"vehicle_type\",\"make_id\",\"model_year\",\"color\",\"date_stolen\",\"location_id\"]\n",
    "\n",
    "pd.read_csv(\"E:/projects/nz-motor-theft-py-analysis/stolen_vehicles.csv\",\n",
    "            usecols=veh_cols, # this will pass only the specified columns\n",
    "            index_col= \"date_stolen\", # setting the date column as an index\n",
    "            header=0, # setting the first row as the header\n",
    "            parse_dates=True, # allows pandas to directly make the date column a datetime64 type\n",
    "            dtype={\"vehicle_id\": \"Int16\",\"make_id\":\"Int16\",\"model_year\":\"Int16\",\"location_id\":\"Int16\"}, #notice the capital letter in the \"Int\"s, more on that later\n",
    "            keep_default_na=True #keeps the NA values, so we'll be able to get rid of them later\n",
    "            )"
   ]
  },
  {
   "cell_type": "markdown",
   "metadata": {},
   "source": [
    "There's a lot of missing values here, and unfortunately we can't really do anything to fill them, so we'll have to get rid of them, but we'll save that for the cleaning stage.\n",
    "\n",
    "- For now, we'll import the second CSV file, the make details table."
   ]
  },
  {
   "cell_type": "code",
   "execution_count": null,
   "metadata": {},
   "outputs": [],
   "source": [
    "pd.read_csv('E:/projects/nz-motor-theft-py-analysis/make_details.csv',\n",
    "            index_col = \"make_id\",\n",
    "            header=0, \n",
    "            dtype={\"make_id\":\"Int16\"},\n",
    "            keep_default_na=True\n",
    "  )"
   ]
  },
  {
   "cell_type": "markdown",
   "metadata": {},
   "source": [
    "What a pretty dataframe. We'll join it to the first table soon, using **merge()** - pandas' version of the SQL join, I love SQL, so I feel right at home.\n"
   ]
  },
  {
   "cell_type": "markdown",
   "metadata": {},
   "source": [
    "- Now to import the location data:"
   ]
  },
  {
   "cell_type": "code",
   "execution_count": 14,
   "metadata": {},
   "outputs": [
    {
     "data": {
      "text/html": [
       "<div>\n",
       "<style scoped>\n",
       "    .dataframe tbody tr th:only-of-type {\n",
       "        vertical-align: middle;\n",
       "    }\n",
       "\n",
       "    .dataframe tbody tr th {\n",
       "        vertical-align: top;\n",
       "    }\n",
       "\n",
       "    .dataframe thead th {\n",
       "        text-align: right;\n",
       "    }\n",
       "</style>\n",
       "<table border=\"1\" class=\"dataframe\">\n",
       "  <thead>\n",
       "    <tr style=\"text-align: right;\">\n",
       "      <th></th>\n",
       "      <th>region</th>\n",
       "      <th>population</th>\n",
       "    </tr>\n",
       "    <tr>\n",
       "      <th>location_id</th>\n",
       "      <th></th>\n",
       "      <th></th>\n",
       "    </tr>\n",
       "  </thead>\n",
       "  <tbody>\n",
       "    <tr>\n",
       "      <th>101</th>\n",
       "      <td>Northland</td>\n",
       "      <td>201,500</td>\n",
       "    </tr>\n",
       "    <tr>\n",
       "      <th>102</th>\n",
       "      <td>Auckland</td>\n",
       "      <td>1,695,200</td>\n",
       "    </tr>\n",
       "    <tr>\n",
       "      <th>103</th>\n",
       "      <td>Waikato</td>\n",
       "      <td>513,800</td>\n",
       "    </tr>\n",
       "    <tr>\n",
       "      <th>104</th>\n",
       "      <td>Bay of Plenty</td>\n",
       "      <td>347,700</td>\n",
       "    </tr>\n",
       "    <tr>\n",
       "      <th>105</th>\n",
       "      <td>Gisborne</td>\n",
       "      <td>52,100</td>\n",
       "    </tr>\n",
       "    <tr>\n",
       "      <th>106</th>\n",
       "      <td>Hawke's Bay</td>\n",
       "      <td>182,700</td>\n",
       "    </tr>\n",
       "    <tr>\n",
       "      <th>107</th>\n",
       "      <td>Taranaki</td>\n",
       "      <td>127,300</td>\n",
       "    </tr>\n",
       "    <tr>\n",
       "      <th>108</th>\n",
       "      <td>Manawatū-Whanganui</td>\n",
       "      <td>258,200</td>\n",
       "    </tr>\n",
       "    <tr>\n",
       "      <th>109</th>\n",
       "      <td>Wellington</td>\n",
       "      <td>543,500</td>\n",
       "    </tr>\n",
       "    <tr>\n",
       "      <th>110</th>\n",
       "      <td>Tasman</td>\n",
       "      <td>58,700</td>\n",
       "    </tr>\n",
       "    <tr>\n",
       "      <th>111</th>\n",
       "      <td>Nelson</td>\n",
       "      <td>54,500</td>\n",
       "    </tr>\n",
       "    <tr>\n",
       "      <th>112</th>\n",
       "      <td>Marlborough</td>\n",
       "      <td>51,900</td>\n",
       "    </tr>\n",
       "    <tr>\n",
       "      <th>113</th>\n",
       "      <td>West Coast</td>\n",
       "      <td>32,700</td>\n",
       "    </tr>\n",
       "    <tr>\n",
       "      <th>114</th>\n",
       "      <td>Canterbury</td>\n",
       "      <td>655,000</td>\n",
       "    </tr>\n",
       "    <tr>\n",
       "      <th>115</th>\n",
       "      <td>Otago</td>\n",
       "      <td>246,000</td>\n",
       "    </tr>\n",
       "    <tr>\n",
       "      <th>116</th>\n",
       "      <td>Southland</td>\n",
       "      <td>102,400</td>\n",
       "    </tr>\n",
       "  </tbody>\n",
       "</table>\n",
       "</div>"
      ],
      "text/plain": [
       "                         region population\n",
       "location_id                               \n",
       "101                   Northland    201,500\n",
       "102                    Auckland  1,695,200\n",
       "103                     Waikato    513,800\n",
       "104               Bay of Plenty    347,700\n",
       "105                    Gisborne     52,100\n",
       "106                 Hawke's Bay    182,700\n",
       "107                    Taranaki    127,300\n",
       "108          Manawatū-Whanganui    258,200\n",
       "109                  Wellington    543,500\n",
       "110                      Tasman     58,700\n",
       "111                      Nelson     54,500\n",
       "112                 Marlborough     51,900\n",
       "113                  West Coast     32,700\n",
       "114                  Canterbury    655,000\n",
       "115                       Otago    246,000\n",
       "116                   Southland    102,400"
      ]
     },
     "execution_count": 14,
     "metadata": {},
     "output_type": "execute_result"
    }
   ],
   "source": [
    "location_cols=[\"location_id\",\"region\",\"population\"] # columns to imported, there's only one country after all\n",
    "pd.read_csv('E:/projects/nz-motor-theft-py-analysis/locations.csv',\n",
    "            index_col = \"location_id\",\n",
    "            usecols=location_cols,\n",
    "            header=0, \n",
    "            dtype={\"location_id\":\"int8\"},\n",
    "            keep_default_na=True\n",
    "  )"
   ]
  }
 ],
 "metadata": {
  "kernelspec": {
   "display_name": "base",
   "language": "python",
   "name": "python3"
  },
  "language_info": {
   "codemirror_mode": {
    "name": "ipython",
    "version": 3
   },
   "file_extension": ".py",
   "mimetype": "text/x-python",
   "name": "python",
   "nbconvert_exporter": "python",
   "pygments_lexer": "ipython3",
   "version": "3.11.3"
  },
  "orig_nbformat": 4
 },
 "nbformat": 4,
 "nbformat_minor": 2
}
