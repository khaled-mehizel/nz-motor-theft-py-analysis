{
 "cells": [
  {
   "cell_type": "markdown",
   "metadata": {},
   "source": [
    "# Welcome!\n",
    "This is a notebook detailing my analysis of some data about motor theft in New Zealand over 6 months.\n",
    "The records contain information about the vehicle, including its unique ID, type, make, manufacture year, color the location of the incident, the day it was added to the database.\n",
    "\n",
    "I figured it was an appropriate phenomenon to study, considering the imminent announcement of GTA VI.\n",
    "\n",
    "The dataset is kindly provided by the wonderful people at [Maven Analytics](mavenanalytics.io), it can be acquired there for free.\n",
    "\n",
    "## Goals:\n",
    "### Which vehicle types were stolen the most? \n",
    "- I don't know what to expect, it's a safe bet to rule vehicle types like mobile machines, and SPVs. I also expect sport cars to be stolen the least. Stealing a Kia is nothing like stealing a Ferrari.\n",
    "### Have carjackings increased or decreased recently?\n",
    "- Analyzing the changes and trends of the phenomenon.\n",
    "### What day of the week are vehicles most often and least often stolen?\n",
    "- I'm quite curious about this one! If you stole a car, what day would you choose to do it?\n",
    "### Is the model year a factor? Does it affect a vehicle differently based on its type?\n",
    "- I expect prized cars from the 80s and earlier to be prime targets, highly valuable (particularly Japanese cars) without as much security as say, a 2023 Mercedes.\n",
    "### Which regions had the most carjackings?\n",
    "- I have no idea what the New Zealand provinces are, but a little filled map action will sort us well.\n",
    "### Which regions are above or below the average rate of thefts?\n",
    "- Using **transform()**, we'll be able to analyze whether a region is safer than others or not.\n",
    "\n"
   ]
  },
  {
   "cell_type": "markdown",
   "metadata": {},
   "source": [
    "## Let's start by importing all the libraries we'll need:\n"
   ]
  },
  {
   "cell_type": "code",
   "execution_count": 162,
   "metadata": {},
   "outputs": [],
   "source": [
    "# pandas\n",
    "import pandas as pd\n",
    "\n",
    "# numpy\n",
    "import numpy as np\n",
    "\n",
    "# matplotlib\n",
    "import matplotlib.pyplot as plt\n",
    "\n",
    "# seaborn, might need it\n",
    "import seaborn as sns\n",
    "\n",
    "#setting that shows seaborn visualizations instead of matplotlib's\n",
    "sns.set()\n",
    "# setting which plot style to use\n",
    "sns.set_style('darkgrid')\n",
    "#magic function that stores all the plots in the notebook\n",
    "%matplotlib inline"
   ]
  },
  {
   "cell_type": "markdown",
   "metadata": {},
   "source": [
    "## Data Import and Preprocessing\n",
    "\n",
    "### Next, we'll import our CSV files and perform some import pre-processing to save memory and time:\n",
    "- First we import the carjackings dataframe itself using **read_csv()**, set the date parser to true with specified date format, and use smaller integer data types when possible, these preprocessing steps will save us both time and performance.\n"
   ]
  },
  {
   "cell_type": "code",
   "execution_count": 163,
   "metadata": {},
   "outputs": [
    {
     "data": {
      "text/html": [
       "<div>\n",
       "<style scoped>\n",
       "    .dataframe tbody tr th:only-of-type {\n",
       "        vertical-align: middle;\n",
       "    }\n",
       "\n",
       "    .dataframe tbody tr th {\n",
       "        vertical-align: top;\n",
       "    }\n",
       "\n",
       "    .dataframe thead th {\n",
       "        text-align: right;\n",
       "    }\n",
       "</style>\n",
       "<table border=\"1\" class=\"dataframe\">\n",
       "  <thead>\n",
       "    <tr style=\"text-align: right;\">\n",
       "      <th></th>\n",
       "      <th>vehicle_id</th>\n",
       "      <th>vehicle_type</th>\n",
       "      <th>make_id</th>\n",
       "      <th>model_year</th>\n",
       "      <th>color</th>\n",
       "      <th>location_id</th>\n",
       "    </tr>\n",
       "    <tr>\n",
       "      <th>date_stolen</th>\n",
       "      <th></th>\n",
       "      <th></th>\n",
       "      <th></th>\n",
       "      <th></th>\n",
       "      <th></th>\n",
       "      <th></th>\n",
       "    </tr>\n",
       "  </thead>\n",
       "  <tbody>\n",
       "    <tr>\n",
       "      <th>2022-01-29</th>\n",
       "      <td>2159</td>\n",
       "      <td>Hatchback</td>\n",
       "      <td>611</td>\n",
       "      <td>2010</td>\n",
       "      <td>Black</td>\n",
       "      <td>104</td>\n",
       "    </tr>\n",
       "    <tr>\n",
       "      <th>2022-03-08</th>\n",
       "      <td>168</td>\n",
       "      <td>Trailer - Heavy</td>\n",
       "      <td>623</td>\n",
       "      <td>2015</td>\n",
       "      <td>White</td>\n",
       "      <td>107</td>\n",
       "    </tr>\n",
       "    <tr>\n",
       "      <th>2021-12-09</th>\n",
       "      <td>3085</td>\n",
       "      <td>Stationwagon</td>\n",
       "      <td>540</td>\n",
       "      <td>2005</td>\n",
       "      <td>Silver</td>\n",
       "      <td>109</td>\n",
       "    </tr>\n",
       "    <tr>\n",
       "      <th>2022-03-02</th>\n",
       "      <td>4232</td>\n",
       "      <td>Saloon</td>\n",
       "      <td>576</td>\n",
       "      <td>1991</td>\n",
       "      <td>Blue</td>\n",
       "      <td>114</td>\n",
       "    </tr>\n",
       "    <tr>\n",
       "      <th>2021-12-25</th>\n",
       "      <td>1917</td>\n",
       "      <td>Saloon</td>\n",
       "      <td>619</td>\n",
       "      <td>2008</td>\n",
       "      <td>Silver</td>\n",
       "      <td>102</td>\n",
       "    </tr>\n",
       "  </tbody>\n",
       "</table>\n",
       "</div>"
      ],
      "text/plain": [
       "             vehicle_id     vehicle_type  make_id  model_year   color  \\\n",
       "date_stolen                                                             \n",
       "2022-01-29         2159        Hatchback      611        2010   Black   \n",
       "2022-03-08          168  Trailer - Heavy      623        2015   White   \n",
       "2021-12-09         3085     Stationwagon      540        2005  Silver   \n",
       "2022-03-02         4232           Saloon      576        1991    Blue   \n",
       "2021-12-25         1917           Saloon      619        2008  Silver   \n",
       "\n",
       "             location_id  \n",
       "date_stolen               \n",
       "2022-01-29           104  \n",
       "2022-03-08           107  \n",
       "2021-12-09           109  \n",
       "2022-03-02           114  \n",
       "2021-12-25           102  "
      ]
     },
     "execution_count": 163,
     "metadata": {},
     "output_type": "execute_result"
    }
   ],
   "source": [
    "# little variable to help make the code more readable\n",
    "veh_cols=[\"vehicle_id\",\"vehicle_type\",\"make_id\",\"model_year\",\"color\",\"date_stolen\",\"location_id\"]\n",
    "\n",
    "thefts = pd.read_csv(\"E:/projects/nz-motor-theft-py-analysis/stolen_vehicles.csv\",\n",
    "            usecols=veh_cols, # this will pass only the specified columns\n",
    "            index_col= \"date_stolen\", # setting the date column as an index\n",
    "            header=0, # setting the first row as the header\n",
    "            parse_dates=True, # allows pandas to directly make the date column a datetime64 type\n",
    "            date_format= \"%m/%d/%y\", # helps pandas get the correct date format\n",
    "            dtype={\"vehicle_id\": \"Int16\",\"make_id\":\"Int16\",\"model_year\":\"Int16\",\"location_id\":\"Int16\"}, #notice the capital letter in the \"Int\"s, more on that later\n",
    "            keep_default_na=True #keeps the NA values, so we'll be able to get rid of them later\n",
    ")\n",
    "thefts.sample(5)"
   ]
  },
  {
   "cell_type": "markdown",
   "metadata": {},
   "source": [
    "There's a lot of missing values here, and unfortunately we can't really do anything to fill them, so we'll have to get rid of them, but we'll save that for the cleaning stage.\n",
    "\n",
    "- For now, we'll import the second CSV file, the make details table."
   ]
  },
  {
   "cell_type": "code",
   "execution_count": 164,
   "metadata": {},
   "outputs": [
    {
     "data": {
      "text/html": [
       "<div>\n",
       "<style scoped>\n",
       "    .dataframe tbody tr th:only-of-type {\n",
       "        vertical-align: middle;\n",
       "    }\n",
       "\n",
       "    .dataframe tbody tr th {\n",
       "        vertical-align: top;\n",
       "    }\n",
       "\n",
       "    .dataframe thead th {\n",
       "        text-align: right;\n",
       "    }\n",
       "</style>\n",
       "<table border=\"1\" class=\"dataframe\">\n",
       "  <thead>\n",
       "    <tr style=\"text-align: right;\">\n",
       "      <th></th>\n",
       "      <th>make_name</th>\n",
       "      <th>make_type</th>\n",
       "    </tr>\n",
       "    <tr>\n",
       "      <th>make_id</th>\n",
       "      <th></th>\n",
       "      <th></th>\n",
       "    </tr>\n",
       "  </thead>\n",
       "  <tbody>\n",
       "    <tr>\n",
       "      <th>528</th>\n",
       "      <td>Dacia</td>\n",
       "      <td>Standard</td>\n",
       "    </tr>\n",
       "    <tr>\n",
       "      <th>542</th>\n",
       "      <td>FOTON</td>\n",
       "      <td>Standard</td>\n",
       "    </tr>\n",
       "    <tr>\n",
       "      <th>590</th>\n",
       "      <td>Over</td>\n",
       "      <td>Standard</td>\n",
       "    </tr>\n",
       "    <tr>\n",
       "      <th>568</th>\n",
       "      <td>Land Rover</td>\n",
       "      <td>Luxury</td>\n",
       "    </tr>\n",
       "    <tr>\n",
       "      <th>569</th>\n",
       "      <td>Landrover</td>\n",
       "      <td>Luxury</td>\n",
       "    </tr>\n",
       "  </tbody>\n",
       "</table>\n",
       "</div>"
      ],
      "text/plain": [
       "          make_name make_type\n",
       "make_id                      \n",
       "528           Dacia  Standard\n",
       "542           FOTON  Standard\n",
       "590            Over  Standard\n",
       "568      Land Rover    Luxury\n",
       "569       Landrover    Luxury"
      ]
     },
     "execution_count": 164,
     "metadata": {},
     "output_type": "execute_result"
    }
   ],
   "source": [
    "makes = pd.read_csv('E:/projects/nz-motor-theft-py-analysis/make_details.csv',\n",
    "            index_col = \"make_id\",\n",
    "            header=0, \n",
    "            dtype={\"make_id\":\"Int16\"},\n",
    "            keep_default_na=True  \n",
    ")\n",
    "makes.sample(5)"
   ]
  },
  {
   "cell_type": "markdown",
   "metadata": {},
   "source": [
    "What a pretty dataframe. We'll join it to the first table soon, using **merge()** - pandas' version of the SQL join, I love SQL, so I feel right at home.\n"
   ]
  },
  {
   "cell_type": "markdown",
   "metadata": {},
   "source": [
    "- Now to import the location data:"
   ]
  },
  {
   "cell_type": "code",
   "execution_count": 165,
   "metadata": {},
   "outputs": [
    {
     "data": {
      "text/html": [
       "<div>\n",
       "<style scoped>\n",
       "    .dataframe tbody tr th:only-of-type {\n",
       "        vertical-align: middle;\n",
       "    }\n",
       "\n",
       "    .dataframe tbody tr th {\n",
       "        vertical-align: top;\n",
       "    }\n",
       "\n",
       "    .dataframe thead th {\n",
       "        text-align: right;\n",
       "    }\n",
       "</style>\n",
       "<table border=\"1\" class=\"dataframe\">\n",
       "  <thead>\n",
       "    <tr style=\"text-align: right;\">\n",
       "      <th></th>\n",
       "      <th>region</th>\n",
       "      <th>population</th>\n",
       "    </tr>\n",
       "    <tr>\n",
       "      <th>location_id</th>\n",
       "      <th></th>\n",
       "      <th></th>\n",
       "    </tr>\n",
       "  </thead>\n",
       "  <tbody>\n",
       "    <tr>\n",
       "      <th>101</th>\n",
       "      <td>Northland</td>\n",
       "      <td>201,500</td>\n",
       "    </tr>\n",
       "    <tr>\n",
       "      <th>102</th>\n",
       "      <td>Auckland</td>\n",
       "      <td>1,695,200</td>\n",
       "    </tr>\n",
       "    <tr>\n",
       "      <th>103</th>\n",
       "      <td>Waikato</td>\n",
       "      <td>513,800</td>\n",
       "    </tr>\n",
       "    <tr>\n",
       "      <th>104</th>\n",
       "      <td>Bay of Plenty</td>\n",
       "      <td>347,700</td>\n",
       "    </tr>\n",
       "    <tr>\n",
       "      <th>105</th>\n",
       "      <td>Gisborne</td>\n",
       "      <td>52,100</td>\n",
       "    </tr>\n",
       "  </tbody>\n",
       "</table>\n",
       "</div>"
      ],
      "text/plain": [
       "                    region population\n",
       "location_id                          \n",
       "101              Northland    201,500\n",
       "102               Auckland  1,695,200\n",
       "103                Waikato    513,800\n",
       "104          Bay of Plenty    347,700\n",
       "105               Gisborne     52,100"
      ]
     },
     "execution_count": 165,
     "metadata": {},
     "output_type": "execute_result"
    }
   ],
   "source": [
    "location_cols=[\"location_id\",\"region\",\"population\"] # columns to imported, there's only one country after all\n",
    "locations = pd.read_csv('E:/projects/nz-motor-theft-py-analysis/locations.csv',\n",
    "            index_col = \"location_id\",\n",
    "            usecols=location_cols,\n",
    "            header=0, \n",
    "            dtype={\"location_id\":\"int8\"},\n",
    "            keep_default_na=True\n",
    "  )\n",
    "locations.head()"
   ]
  },
  {
   "cell_type": "markdown",
   "metadata": {},
   "source": [
    "## Now that we have our data ready, it's time for cleaning."
   ]
  },
  {
   "cell_type": "markdown",
   "metadata": {},
   "source": [
    "- First, we'll check the stolen vehicles table:"
   ]
  },
  {
   "cell_type": "code",
   "execution_count": 166,
   "metadata": {},
   "outputs": [
    {
     "data": {
      "text/plain": [
       "(4553, 6)"
      ]
     },
     "execution_count": 166,
     "metadata": {},
     "output_type": "execute_result"
    }
   ],
   "source": [
    "thefts.shape"
   ]
  },
  {
   "cell_type": "markdown",
   "metadata": {},
   "source": [
    "6 columns and 4527 rows, including the ones with missing data."
   ]
  },
  {
   "cell_type": "code",
   "execution_count": 167,
   "metadata": {},
   "outputs": [
    {
     "data": {
      "text/plain": [
       "vehicle_id       0\n",
       "vehicle_type    26\n",
       "make_id         15\n",
       "model_year      15\n",
       "color           15\n",
       "location_id      0\n",
       "dtype: int64"
      ]
     },
     "execution_count": 167,
     "metadata": {},
     "output_type": "execute_result"
    }
   ],
   "source": [
    "thefts.isna().sum() #first method will tell us if the value is missing or not\n"
   ]
  },
  {
   "cell_type": "markdown",
   "metadata": {},
   "source": [
    "Plenty of missing values. As mentioned before, we can't really fill them with anything, so we'll just get rid of any rows missing data using **dropna()**\n",
    "Thankfully, it's only 26 rows. Negligible against the remaining 4520 (and header)"
   ]
  },
  {
   "cell_type": "code",
   "execution_count": 168,
   "metadata": {},
   "outputs": [
    {
     "data": {
      "text/plain": [
       "vehicle_id      0\n",
       "vehicle_type    0\n",
       "make_id         0\n",
       "model_year      0\n",
       "color           0\n",
       "location_id     0\n",
       "dtype: int64"
      ]
     },
     "execution_count": 168,
     "metadata": {},
     "output_type": "execute_result"
    }
   ],
   "source": [
    "thefts = thefts.dropna(axis = 0, how = \"any\") #this will delete *any* rows that are missing values\n",
    "thefts.isna().sum()"
   ]
  },
  {
   "cell_type": "markdown",
   "metadata": {},
   "source": [
    "I noticed that the list of vehicle types column is quite granular and could do with a little touch up. We'll use **contains()** nested in **where()** to replace any rows.\n"
   ]
  },
  {
   "cell_type": "code",
   "execution_count": 169,
   "metadata": {},
   "outputs": [
    {
     "data": {
      "text/plain": [
       "array(['Trailer', 'Boat Trailer', 'Roadbike', 'Moped', 'Trailer - Heavy',\n",
       "       'Caravan', 'Hatchback', 'Saloon', 'Stationwagon', 'Tractor',\n",
       "       'Trail Bike', 'Light Van', 'All Terrain Vehicle', 'Utility',\n",
       "       'Other Truck', 'Sports Car', 'Flat Deck Truck', 'Light Bus',\n",
       "       'Mobile Home - Light', 'Convertible', 'Heavy Van',\n",
       "       'Special Purpose Vehicle', 'Articulated Truck',\n",
       "       'Cab and Chassis Only', 'Mobile Machine'], dtype=object)"
      ]
     },
     "execution_count": 169,
     "metadata": {},
     "output_type": "execute_result"
    }
   ],
   "source": [
    "thefts[\"vehicle_type\"].unique()"
   ]
  },
  {
   "cell_type": "markdown",
   "metadata": {},
   "source": [
    "The way I see it:\n",
    "- A trailer isn't that different to a boat trailer. <br>\n",
    "- Vans should be a single category as well. <br>\n",
    "- Some truck categories have too small a value, so we'll include those in a big truck category.\n",
    "- Cab & Chassis Only trucks are simply trucks without the truck.<br>\n",
    "- I will also change \"Mobile Home - Light\" into \"Mobile Home\" because there's only one type.<br>\n",
    "\n",
    "I apologize, it's quite an ugly snippet of code, and yes, I did try to use the **regex** library, but it doesn't support Dataframes and Series. So, I ended up making this:"
   ]
  },
  {
   "cell_type": "code",
   "execution_count": 170,
   "metadata": {},
   "outputs": [
    {
     "data": {
      "text/plain": [
       "array(['Trailer', 'Roadbike', 'Moped', 'Caravan', 'Hatchback', 'Saloon',\n",
       "       'Stationwagon', 'Tractor', 'Trail Bike', 'Van',\n",
       "       'All Terrain Vehicle', 'Utility', 'Truck', 'Sports Car', 'Bus',\n",
       "       'Mobile Home', 'Convertible', 'Special Purpose Vehicle',\n",
       "       'Mobile Machine'], dtype=object)"
      ]
     },
     "execution_count": 170,
     "metadata": {},
     "output_type": "execute_result"
    }
   ],
   "source": [
    "thefts['vehicle_type'] = thefts['vehicle_type'].where((thefts['vehicle_type'].str.contains('Trailer') == False), other=\"Trailer\")\n",
    "thefts['vehicle_type'] = thefts['vehicle_type'].where((thefts['vehicle_type'].str.contains('Truck') == False), other=\"Truck\")\n",
    "thefts['vehicle_type'] = thefts['vehicle_type'].where((thefts['vehicle_type'].str.contains('Van') == False), other=\"Van\")\n",
    "thefts['vehicle_type'] = thefts['vehicle_type'].where((thefts['vehicle_type'].str.contains('Bus') == False), other=\"Bus\")\n",
    "thefts['vehicle_type'] = thefts['vehicle_type'].where((thefts['vehicle_type'] != \"Mobile Home - Light\"), other=\"Mobile Home\")\n",
    "thefts['vehicle_type'] = thefts['vehicle_type'].where((thefts['vehicle_type'] != \"Cab and Chassis Only\"), other=\"Truck\")\n",
    "thefts['vehicle_type'].unique()"
   ]
  },
  {
   "cell_type": "markdown",
   "metadata": {},
   "source": [
    "It replaces any rows with the mention of a trailer with simply \"trailer\", van with \"vans\" and so on.\n",
    "I spent over an hour trying to avoid that spaghetti but alas."
   ]
  },
  {
   "cell_type": "markdown",
   "metadata": {},
   "source": [
    "Next, we'll check the makes table for any missing values, it's a lookup table, so I'm hoping nothing is missing.\n",
    "Let's look at the shape:\n"
   ]
  },
  {
   "cell_type": "code",
   "execution_count": 171,
   "metadata": {},
   "outputs": [
    {
     "data": {
      "text/plain": [
       "(138, 2)"
      ]
     },
     "execution_count": 171,
     "metadata": {},
     "output_type": "execute_result"
    }
   ],
   "source": [
    "makes.shape"
   ]
  },
  {
   "cell_type": "markdown",
   "metadata": {},
   "source": [
    "Let's check if any of these 138 rows are missing any data:\n"
   ]
  },
  {
   "cell_type": "code",
   "execution_count": 172,
   "metadata": {},
   "outputs": [
    {
     "data": {
      "text/plain": [
       "make_name    0\n",
       "make_type    0\n",
       "dtype: int64"
      ]
     },
     "execution_count": 172,
     "metadata": {},
     "output_type": "execute_result"
    }
   ],
   "source": [
    "makes.isna().sum()"
   ]
  },
  {
   "cell_type": "markdown",
   "metadata": {},
   "source": [
    "None! What a relief.\n",
    "Now, for the location table, it's likely the same, as it's a lookup table as well."
   ]
  },
  {
   "cell_type": "code",
   "execution_count": 173,
   "metadata": {},
   "outputs": [
    {
     "data": {
      "text/plain": [
       "(16, 2)"
      ]
     },
     "execution_count": 173,
     "metadata": {},
     "output_type": "execute_result"
    }
   ],
   "source": [
    "locations.shape"
   ]
  },
  {
   "cell_type": "code",
   "execution_count": 174,
   "metadata": {},
   "outputs": [
    {
     "data": {
      "text/plain": [
       "region        0\n",
       "population    0\n",
       "dtype: int64"
      ]
     },
     "execution_count": 174,
     "metadata": {},
     "output_type": "execute_result"
    }
   ],
   "source": [
    "locations.isna().sum()"
   ]
  },
  {
   "cell_type": "markdown",
   "metadata": {},
   "source": [
    "Success! There is no missing data in our lookup tables!"
   ]
  },
  {
   "cell_type": "markdown",
   "metadata": {},
   "source": [
    "# Joining the Data tables:\n",
    "For this, we'll use **merge()**, and NOT **join()** and keys like make_id and location_id. We'll do two tables at a time to keep the code more readable."
   ]
  },
  {
   "cell_type": "markdown",
   "metadata": {},
   "source": [
    "First, we'll join the theft and make tables, using the make_id column, which is common to both tables."
   ]
  },
  {
   "cell_type": "code",
   "execution_count": 175,
   "metadata": {},
   "outputs": [
    {
     "data": {
      "text/html": [
       "<div>\n",
       "<style scoped>\n",
       "    .dataframe tbody tr th:only-of-type {\n",
       "        vertical-align: middle;\n",
       "    }\n",
       "\n",
       "    .dataframe tbody tr th {\n",
       "        vertical-align: top;\n",
       "    }\n",
       "\n",
       "    .dataframe thead th {\n",
       "        text-align: right;\n",
       "    }\n",
       "</style>\n",
       "<table border=\"1\" class=\"dataframe\">\n",
       "  <thead>\n",
       "    <tr style=\"text-align: right;\">\n",
       "      <th></th>\n",
       "      <th>vehicle_id</th>\n",
       "      <th>vehicle_type</th>\n",
       "      <th>make_id</th>\n",
       "      <th>model_year</th>\n",
       "      <th>color</th>\n",
       "      <th>location_id</th>\n",
       "      <th>make_name</th>\n",
       "      <th>make_type</th>\n",
       "    </tr>\n",
       "    <tr>\n",
       "      <th>date_stolen</th>\n",
       "      <th></th>\n",
       "      <th></th>\n",
       "      <th></th>\n",
       "      <th></th>\n",
       "      <th></th>\n",
       "      <th></th>\n",
       "      <th></th>\n",
       "      <th></th>\n",
       "    </tr>\n",
       "  </thead>\n",
       "  <tbody>\n",
       "    <tr>\n",
       "      <th>2021-11-05</th>\n",
       "      <td>1</td>\n",
       "      <td>Trailer</td>\n",
       "      <td>623</td>\n",
       "      <td>2021</td>\n",
       "      <td>Silver</td>\n",
       "      <td>102</td>\n",
       "      <td>Trailer</td>\n",
       "      <td>Standard</td>\n",
       "    </tr>\n",
       "    <tr>\n",
       "      <th>2021-12-13</th>\n",
       "      <td>2</td>\n",
       "      <td>Trailer</td>\n",
       "      <td>623</td>\n",
       "      <td>2021</td>\n",
       "      <td>Silver</td>\n",
       "      <td>105</td>\n",
       "      <td>Trailer</td>\n",
       "      <td>Standard</td>\n",
       "    </tr>\n",
       "    <tr>\n",
       "      <th>2022-02-13</th>\n",
       "      <td>3</td>\n",
       "      <td>Trailer</td>\n",
       "      <td>623</td>\n",
       "      <td>2021</td>\n",
       "      <td>Silver</td>\n",
       "      <td>102</td>\n",
       "      <td>Trailer</td>\n",
       "      <td>Standard</td>\n",
       "    </tr>\n",
       "    <tr>\n",
       "      <th>2021-11-13</th>\n",
       "      <td>4</td>\n",
       "      <td>Trailer</td>\n",
       "      <td>623</td>\n",
       "      <td>2021</td>\n",
       "      <td>Silver</td>\n",
       "      <td>106</td>\n",
       "      <td>Trailer</td>\n",
       "      <td>Standard</td>\n",
       "    </tr>\n",
       "    <tr>\n",
       "      <th>2022-01-10</th>\n",
       "      <td>5</td>\n",
       "      <td>Trailer</td>\n",
       "      <td>623</td>\n",
       "      <td>2018</td>\n",
       "      <td>Silver</td>\n",
       "      <td>102</td>\n",
       "      <td>Trailer</td>\n",
       "      <td>Standard</td>\n",
       "    </tr>\n",
       "  </tbody>\n",
       "</table>\n",
       "</div>"
      ],
      "text/plain": [
       "             vehicle_id vehicle_type  make_id  model_year   color  \\\n",
       "date_stolen                                                         \n",
       "2021-11-05            1      Trailer      623        2021  Silver   \n",
       "2021-12-13            2      Trailer      623        2021  Silver   \n",
       "2022-02-13            3      Trailer      623        2021  Silver   \n",
       "2021-11-13            4      Trailer      623        2021  Silver   \n",
       "2022-01-10            5      Trailer      623        2018  Silver   \n",
       "\n",
       "             location_id make_name make_type  \n",
       "date_stolen                                   \n",
       "2021-11-05           102   Trailer  Standard  \n",
       "2021-12-13           105   Trailer  Standard  \n",
       "2022-02-13           102   Trailer  Standard  \n",
       "2021-11-13           106   Trailer  Standard  \n",
       "2022-01-10           102   Trailer  Standard  "
      ]
     },
     "execution_count": 175,
     "metadata": {},
     "output_type": "execute_result"
    }
   ],
   "source": [
    "thefts_w_makes = thefts.merge(makes,\"left\",left_on=thefts[\"make_id\"],right_index=True)\n",
    "thefts_w_makes.head()"
   ]
  },
  {
   "cell_type": "markdown",
   "metadata": {},
   "source": [
    "Next, we'll join the location data, for the complete package:"
   ]
  },
  {
   "cell_type": "code",
   "execution_count": 176,
   "metadata": {},
   "outputs": [
    {
     "data": {
      "text/html": [
       "<div>\n",
       "<style scoped>\n",
       "    .dataframe tbody tr th:only-of-type {\n",
       "        vertical-align: middle;\n",
       "    }\n",
       "\n",
       "    .dataframe tbody tr th {\n",
       "        vertical-align: top;\n",
       "    }\n",
       "\n",
       "    .dataframe thead th {\n",
       "        text-align: right;\n",
       "    }\n",
       "</style>\n",
       "<table border=\"1\" class=\"dataframe\">\n",
       "  <thead>\n",
       "    <tr style=\"text-align: right;\">\n",
       "      <th></th>\n",
       "      <th>vehicle_id</th>\n",
       "      <th>vehicle_type</th>\n",
       "      <th>make_id</th>\n",
       "      <th>model_year</th>\n",
       "      <th>color</th>\n",
       "      <th>location_id</th>\n",
       "      <th>make_name</th>\n",
       "      <th>make_type</th>\n",
       "      <th>region</th>\n",
       "      <th>population</th>\n",
       "    </tr>\n",
       "    <tr>\n",
       "      <th>date_stolen</th>\n",
       "      <th></th>\n",
       "      <th></th>\n",
       "      <th></th>\n",
       "      <th></th>\n",
       "      <th></th>\n",
       "      <th></th>\n",
       "      <th></th>\n",
       "      <th></th>\n",
       "      <th></th>\n",
       "      <th></th>\n",
       "    </tr>\n",
       "  </thead>\n",
       "  <tbody>\n",
       "    <tr>\n",
       "      <th>2022-03-25</th>\n",
       "      <td>1249</td>\n",
       "      <td>Moped</td>\n",
       "      <td>617</td>\n",
       "      <td>2020</td>\n",
       "      <td>Black</td>\n",
       "      <td>102</td>\n",
       "      <td>TNT Motor</td>\n",
       "      <td>Standard</td>\n",
       "      <td>Auckland</td>\n",
       "      <td>1,695,200</td>\n",
       "    </tr>\n",
       "    <tr>\n",
       "      <th>2022-01-16</th>\n",
       "      <td>548</td>\n",
       "      <td>Trailer</td>\n",
       "      <td>623</td>\n",
       "      <td>2018</td>\n",
       "      <td>Black</td>\n",
       "      <td>102</td>\n",
       "      <td>Trailer</td>\n",
       "      <td>Standard</td>\n",
       "      <td>Auckland</td>\n",
       "      <td>1,695,200</td>\n",
       "    </tr>\n",
       "    <tr>\n",
       "      <th>2021-12-01</th>\n",
       "      <td>3226</td>\n",
       "      <td>Stationwagon</td>\n",
       "      <td>619</td>\n",
       "      <td>2017</td>\n",
       "      <td>Red</td>\n",
       "      <td>102</td>\n",
       "      <td>Toyota</td>\n",
       "      <td>Standard</td>\n",
       "      <td>Auckland</td>\n",
       "      <td>1,695,200</td>\n",
       "    </tr>\n",
       "    <tr>\n",
       "      <th>2022-02-28</th>\n",
       "      <td>964</td>\n",
       "      <td>Roadbike</td>\n",
       "      <td>611</td>\n",
       "      <td>2017</td>\n",
       "      <td>Black</td>\n",
       "      <td>104</td>\n",
       "      <td>Suzuki</td>\n",
       "      <td>Standard</td>\n",
       "      <td>Bay of Plenty</td>\n",
       "      <td>347,700</td>\n",
       "    </tr>\n",
       "    <tr>\n",
       "      <th>2022-03-06</th>\n",
       "      <td>2457</td>\n",
       "      <td>Utility</td>\n",
       "      <td>540</td>\n",
       "      <td>2008</td>\n",
       "      <td>Red</td>\n",
       "      <td>114</td>\n",
       "      <td>Ford</td>\n",
       "      <td>Standard</td>\n",
       "      <td>Canterbury</td>\n",
       "      <td>655,000</td>\n",
       "    </tr>\n",
       "  </tbody>\n",
       "</table>\n",
       "</div>"
      ],
      "text/plain": [
       "             vehicle_id  vehicle_type  make_id  model_year  color  \\\n",
       "date_stolen                                                         \n",
       "2022-03-25         1249         Moped      617        2020  Black   \n",
       "2022-01-16          548       Trailer      623        2018  Black   \n",
       "2021-12-01         3226  Stationwagon      619        2017    Red   \n",
       "2022-02-28          964      Roadbike      611        2017  Black   \n",
       "2022-03-06         2457       Utility      540        2008    Red   \n",
       "\n",
       "             location_id  make_name make_type         region population  \n",
       "date_stolen                                                              \n",
       "2022-03-25           102  TNT Motor  Standard       Auckland  1,695,200  \n",
       "2022-01-16           102    Trailer  Standard       Auckland  1,695,200  \n",
       "2021-12-01           102     Toyota  Standard       Auckland  1,695,200  \n",
       "2022-02-28           104     Suzuki  Standard  Bay of Plenty    347,700  \n",
       "2022-03-06           114       Ford  Standard     Canterbury    655,000  "
      ]
     },
     "execution_count": 176,
     "metadata": {},
     "output_type": "execute_result"
    }
   ],
   "source": [
    "thefts_full = thefts_w_makes.merge(locations,\"left\",left_on=thefts_w_makes[\"location_id\"],right_index=True)\n",
    "thefts_full.sample(5)"
   ]
  },
  {
   "cell_type": "markdown",
   "metadata": {},
   "source": [
    "Voilà! Now, we have the complete table, just like we would in SQL. We have the date of the theft, when and where it was committed, and which type of vehicle was stolen, etc. we are ready to aggregate!"
   ]
  },
  {
   "cell_type": "markdown",
   "metadata": {},
   "source": [
    "# Aggregating and plotting the data:\n",
    "\n",
    "In this step, we will:\n",
    "- Aggregate the data by time, location, and make etc. to answer our questions.\n",
    "- Use different visualizations to hopefully complete a sound and insightful analysis into this phenomenon."
   ]
  },
  {
   "cell_type": "markdown",
   "metadata": {},
   "source": [
    "### Which vehicle types were stolen the most? \n",
    "To answer this question, it's a simple process of summing the thefts by make type, using **groupby()** and **agg()**.\n",
    "I also used **query()** to filter out types that have been stolen less than 5 times, and used the **plot()** method to do the, well, plotting."
   ]
  },
  {
   "cell_type": "code",
   "execution_count": 177,
   "metadata": {},
   "outputs": [
    {
     "data": {
      "image/png": "[encoded data removed]",
      "text/plain": [
       "<Figure size 900x600 with 1 Axes>"
      ]
     },
     "metadata": {},
     "output_type": "display_data"
    }
   ],
   "source": [
    "(thefts_full\n",
    ".groupby('vehicle_type')\n",
    ".agg(theft_count=('vehicle_id','count'))\n",
    ".query(\"theft_count > 5\")\n",
    ".sort_values(\"theft_count\", ascending=True)\n",
    ".rename(columns={\"theft_count\":\"Thefts\"})\n",
    ".plot(kind=\"barh\", \n",
    "figsize=(9,6),\n",
    "ylabel= \"Vehicle Type\",\n",
    "legend=False))\n",
    "plt.title(\"Motor Thefts in New Zealand by Vehicle Type\", fontweight=\"bold\");"
   ]
  },
  {
   "cell_type": "markdown",
   "metadata": {},
   "source": [
    "When it comes to cars, we notice that saloons and station wagons reign supreme. Sport cars are often conspicuous and come with extra security features, as they're usually high end, making them harder to steal. Wagons are neat, the new V90 from Volvo looks amazing.\n",
    "\n",
    "Trailers also seem to be stolen quite often, I'm still trying to wrap my head around how that would work, does the thief just bring a semi truck or tractor and takes it away? That doesn't seem too difficult now that I think about it."
   ]
  },
  {
   "cell_type": "markdown",
   "metadata": {},
   "source": [
    "### Has the number of carjacking increased recently?\n",
    "Mostly the same code as last time, except this time we'll filter the values using **.loc()** only to January 2022, aggregate using the date column, and make a line chart."
   ]
  },
  {
   "cell_type": "code",
   "execution_count": 194,
   "metadata": {},
   "outputs": [
    {
     "ename": "KeyError",
     "evalue": "'date_stolen'",
     "output_type": "error",
     "traceback": [
      "\u001b[1;31m---------------------------------------------------------------------------\u001b[0m",
      "\u001b[1;31mKeyError\u001b[0m                                  Traceback (most recent call last)",
      "File \u001b[1;32mc:\\ProgramData\\anaconda3\\Lib\\site-packages\\pandas\\core\\indexes\\base.py:3653\u001b[0m, in \u001b[0;36mIndex.get_loc\u001b[1;34m(self, key)\u001b[0m\n\u001b[0;32m   3652\u001b[0m \u001b[39mtry\u001b[39;00m:\n\u001b[1;32m-> 3653\u001b[0m     \u001b[39mreturn\u001b[39;00m \u001b[39mself\u001b[39;49m\u001b[39m.\u001b[39;49m_engine\u001b[39m.\u001b[39;49mget_loc(casted_key)\n\u001b[0;32m   3654\u001b[0m \u001b[39mexcept\u001b[39;00m \u001b[39mKeyError\u001b[39;00m \u001b[39mas\u001b[39;00m err:\n",
      "File \u001b[1;32mc:\\ProgramData\\anaconda3\\Lib\\site-packages\\pandas\\_libs\\index.pyx:147\u001b[0m, in \u001b[0;36mpandas._libs.index.IndexEngine.get_loc\u001b[1;34m()\u001b[0m\n",
      "File \u001b[1;32mc:\\ProgramData\\anaconda3\\Lib\\site-packages\\pandas\\_libs\\index.pyx:176\u001b[0m, in \u001b[0;36mpandas._libs.index.IndexEngine.get_loc\u001b[1;34m()\u001b[0m\n",
      "File \u001b[1;32mpandas\\_libs\\hashtable_class_helper.pxi:7080\u001b[0m, in \u001b[0;36mpandas._libs.hashtable.PyObjectHashTable.get_item\u001b[1;34m()\u001b[0m\n",
      "File \u001b[1;32mpandas\\_libs\\hashtable_class_helper.pxi:7088\u001b[0m, in \u001b[0;36mpandas._libs.hashtable.PyObjectHashTable.get_item\u001b[1;34m()\u001b[0m\n",
      "\u001b[1;31mKeyError\u001b[0m: 'date_stolen'",
      "\nThe above exception was the direct cause of the following exception:\n",
      "\u001b[1;31mKeyError\u001b[0m                                  Traceback (most recent call last)",
      "Cell \u001b[1;32mIn[194], line 8\u001b[0m\n\u001b[0;32m      1\u001b[0m (thefts_full\u001b[39m.\u001b[39mloc[\u001b[39m\"\u001b[39m\u001b[39m2021-12\u001b[39m\u001b[39m\"\u001b[39m:\u001b[39m\"\u001b[39m\u001b[39m2022-03-31\u001b[39m\u001b[39m\"\u001b[39m,:]\n\u001b[0;32m      2\u001b[0m \u001b[39m.\u001b[39mgroupby(\u001b[39m'\u001b[39m\u001b[39mdate_stolen\u001b[39m\u001b[39m'\u001b[39m)\n\u001b[0;32m      3\u001b[0m \u001b[39m.\u001b[39magg(theft_count\u001b[39m=\u001b[39m(\u001b[39m'\u001b[39m\u001b[39mvehicle_id\u001b[39m\u001b[39m'\u001b[39m,\u001b[39m'\u001b[39m\u001b[39mcount\u001b[39m\u001b[39m'\u001b[39m))\n\u001b[0;32m      4\u001b[0m \u001b[39m.\u001b[39mrename(columns\u001b[39m=\u001b[39m{\u001b[39m\"\u001b[39m\u001b[39mtheft_count\u001b[39m\u001b[39m\"\u001b[39m:\u001b[39m\"\u001b[39m\u001b[39mThefts\u001b[39m\u001b[39m\"\u001b[39m})\n\u001b[0;32m      5\u001b[0m \u001b[39m.\u001b[39mplot(kind\u001b[39m=\u001b[39m\u001b[39m\"\u001b[39m\u001b[39mline\u001b[39m\u001b[39m\"\u001b[39m, \n\u001b[0;32m      6\u001b[0m figsize\u001b[39m=\u001b[39m(\u001b[39m9\u001b[39m,\u001b[39m6\u001b[39m),\n\u001b[0;32m      7\u001b[0m legend\u001b[39m=\u001b[39m\u001b[39mFalse\u001b[39;00m,\n\u001b[1;32m----> 8\u001b[0m xlabel\u001b[39m=\u001b[39m \u001b[39m\"\u001b[39m\u001b[39mTheft Date\u001b[39m\u001b[39m\"\u001b[39m))\u001b[39m.\u001b[39mset_xticks(thefts_full[\u001b[39m'\u001b[39;49m\u001b[39mdate_stolen\u001b[39;49m\u001b[39m'\u001b[39;49m]\u001b[39m.\u001b[39mdt\u001b[39m.\u001b[39mmonth)\n\u001b[0;32m      9\u001b[0m plt\u001b[39m.\u001b[39mtitle(\u001b[39m\"\u001b[39m\u001b[39mMotor Thefts in New Zealand by Date\u001b[39m\u001b[39m\"\u001b[39m, fontweight\u001b[39m=\u001b[39m\u001b[39m\"\u001b[39m\u001b[39mbold\u001b[39m\u001b[39m\"\u001b[39m);\n",
      "File \u001b[1;32mc:\\ProgramData\\anaconda3\\Lib\\site-packages\\pandas\\core\\frame.py:3761\u001b[0m, in \u001b[0;36mDataFrame.__getitem__\u001b[1;34m(self, key)\u001b[0m\n\u001b[0;32m   3759\u001b[0m \u001b[39mif\u001b[39;00m \u001b[39mself\u001b[39m\u001b[39m.\u001b[39mcolumns\u001b[39m.\u001b[39mnlevels \u001b[39m>\u001b[39m \u001b[39m1\u001b[39m:\n\u001b[0;32m   3760\u001b[0m     \u001b[39mreturn\u001b[39;00m \u001b[39mself\u001b[39m\u001b[39m.\u001b[39m_getitem_multilevel(key)\n\u001b[1;32m-> 3761\u001b[0m indexer \u001b[39m=\u001b[39m \u001b[39mself\u001b[39;49m\u001b[39m.\u001b[39;49mcolumns\u001b[39m.\u001b[39;49mget_loc(key)\n\u001b[0;32m   3762\u001b[0m \u001b[39mif\u001b[39;00m is_integer(indexer):\n\u001b[0;32m   3763\u001b[0m     indexer \u001b[39m=\u001b[39m [indexer]\n",
      "File \u001b[1;32mc:\\ProgramData\\anaconda3\\Lib\\site-packages\\pandas\\core\\indexes\\base.py:3655\u001b[0m, in \u001b[0;36mIndex.get_loc\u001b[1;34m(self, key)\u001b[0m\n\u001b[0;32m   3653\u001b[0m     \u001b[39mreturn\u001b[39;00m \u001b[39mself\u001b[39m\u001b[39m.\u001b[39m_engine\u001b[39m.\u001b[39mget_loc(casted_key)\n\u001b[0;32m   3654\u001b[0m \u001b[39mexcept\u001b[39;00m \u001b[39mKeyError\u001b[39;00m \u001b[39mas\u001b[39;00m err:\n\u001b[1;32m-> 3655\u001b[0m     \u001b[39mraise\u001b[39;00m \u001b[39mKeyError\u001b[39;00m(key) \u001b[39mfrom\u001b[39;00m \u001b[39merr\u001b[39;00m\n\u001b[0;32m   3656\u001b[0m \u001b[39mexcept\u001b[39;00m \u001b[39mTypeError\u001b[39;00m:\n\u001b[0;32m   3657\u001b[0m     \u001b[39m# If we have a listlike key, _check_indexing_error will raise\u001b[39;00m\n\u001b[0;32m   3658\u001b[0m     \u001b[39m#  InvalidIndexError. Otherwise we fall through and re-raise\u001b[39;00m\n\u001b[0;32m   3659\u001b[0m     \u001b[39m#  the TypeError.\u001b[39;00m\n\u001b[0;32m   3660\u001b[0m     \u001b[39mself\u001b[39m\u001b[39m.\u001b[39m_check_indexing_error(key)\n",
      "\u001b[1;31mKeyError\u001b[0m: 'date_stolen'"
     ]
    },
    {
     "data": {
      "image/png": "[encoded data removed]",
      "text/plain": [
       "<Figure size 900x600 with 1 Axes>"
      ]
     },
     "metadata": {},
     "output_type": "display_data"
    }
   ],
   "source": [
    "(thefts_full.loc[\"2021-12\":\"2022-03-31\",:]\n",
    ".groupby('date_stolen')\n",
    ".agg(theft_count=('vehicle_id','count'))\n",
    ".rename(columns={\"theft_count\":\"Thefts\"})\n",
    ".plot(kind=\"line\", \n",
    "figsize=(9,6),\n",
    "legend=False,\n",
    "xlabel= \"Theft Date\")).set_xticks(thefts_full['date_stolen'].dt.month)\n",
    "plt.title(\"Motor Thefts in New Zealand by Date\", fontweight=\"bold\");"
   ]
  },
  {
   "cell_type": "markdown",
   "metadata": {},
   "source": [
    "We notice an increase after 2022, possibly due to the lift of COVID-19 regulations."
   ]
  }
 ],
 "metadata": {
  "kernelspec": {
   "display_name": "base",
   "language": "python",
   "name": "python3"
  },
  "language_info": {
   "codemirror_mode": {
    "name": "ipython",
    "version": 3
   },
   "file_extension": ".py",
   "mimetype": "text/x-python",
   "name": "python",
   "nbconvert_exporter": "python",
   "pygments_lexer": "ipython3",
   "version": "3.11.3"
  },
  "orig_nbformat": 4
 },
 "nbformat": 4,
 "nbformat_minor": 2
}
